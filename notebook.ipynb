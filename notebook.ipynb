{
  "nbformat": 4,
  "nbformat_minor": 0,
  "metadata": {
    "colab": {
      "provenance": [],
      "mount_file_id": "1rAsYjIyaWr8AiIGtDPOHZxtiYLY6t_Rk",
      "authorship_tag": "ABX9TyOJYhNR+bIQeSGri071NaMK",
      "include_colab_link": true
    },
    "kernelspec": {
      "name": "python3",
      "display_name": "Python 3"
    },
    "language_info": {
      "name": "python"
    }
  },
  "cells": [
    {
      "cell_type": "markdown",
      "metadata": {
        "id": "view-in-github",
        "colab_type": "text"
      },
      "source": [
        "<a href=\"https://colab.research.google.com/github/anirud25/TwitterSentimentAnalysis/blob/main/notebook.ipynb\" target=\"_parent\"><img src=\"https://colab.research.google.com/assets/colab-badge.svg\" alt=\"Open In Colab\"/></a>"
      ]
    },
    {
      "cell_type": "markdown",
      "source": [
        "#### Exploratory Data Analysis"
      ],
      "metadata": {
        "id": "EeBN-0PmtBVY"
      }
    },
    {
      "cell_type": "code",
      "source": [
        "import pandas as pd\n",
        "import numpy as np\n",
        "import warnings\n",
        "warnings.filterwarnings('ignore')"
      ],
      "metadata": {
        "id": "5ismLia9tA8T"
      },
      "execution_count": 33,
      "outputs": []
    },
    {
      "cell_type": "code",
      "source": [
        "# !apt-get install openjdk-8-jdk-headless -qq > /dev/null\n",
        "# !wget https://archive.apache.org/dist/hadoop/common/hadoop-3.3.1/hadoop-3.3.1.tar.gz\n",
        "# !tar -xzf hadoop-3.3.1.tar.gz\n",
        "# !wget https://archive.apache.org/dist/pig/pig-0.17.0/pig-0.17.0.tar.gz\n",
        "# !tar -xzf pig-0.17.0.tar.gz\n",
        "# !wget https://archive.apache.org/dist/hive/hive-3.1.2/apache-hive-3.1.2-bin.tar.gz\n",
        "# !tar -xzf apache-hive-3.1.2-bin.tar.gz\n",
        "!pip install pyspark"
      ],
      "metadata": {
        "id": "aqeDQp0Wqn5v"
      },
      "execution_count": null,
      "outputs": []
    },
    {
      "cell_type": "code",
      "source": [
        "from pyspark.sql import SparkSession\n",
        "from pyspark.sql.functions import col\n",
        "spark = SparkSession.builder \\\n",
        "    .appName(\"PigHivePySparkApp\") \\\n",
        "    .config(\"spark.sql.warehouse.dir\", \"/user/hive/warehouse\") \\\n",
        "    .config(\"spark.executor.memory\", \"4g\") \\\n",
        "    .config(\"spark.driver.memory\", \"4g\") \\\n",
        "    .config(\"spark.sql.shuffle.partitions\", \"8\") \\\n",
        "    .enableHiveSupport() \\\n",
        "    .getOrCreate()\n",
        "\n",
        "# Load the dataset into Hive\n",
        "tweets_df = spark.read.csv(\"/content/drive/MyDrive/Courses/Sem 2/Big data /Tweet.csv\", header=True, inferSchema=True)\n",
        "tweets_df.write.mode(\"overwrite\").saveAsTable(\"company_tweets\")"
      ],
      "metadata": {
        "id": "XqSZ4YEZr9d6"
      },
      "execution_count": 3,
      "outputs": []
    },
    {
      "cell_type": "code",
      "source": [
        "company_df = spark.read.csv(\"/content/drive/MyDrive/Courses/Sem 2/Big data /Company_Tweet.csv\", header=True, inferSchema=True)\n",
        "company_df.write.mode(\"overwrite\").saveAsTable(\"tweets_symbol\")"
      ],
      "metadata": {
        "id": "aQiBeiwechHY"
      },
      "execution_count": 4,
      "outputs": []
    },
    {
      "cell_type": "code",
      "source": [
        "# Display the schema of the DataFrame\n",
        "print(\"DataFrame Schema:\")\n",
        "tweets_df.printSchema()\n",
        "\n",
        "# Display summary statistics of numerical columns\n",
        "print(\"\\nSummary Statistics:\")\n",
        "tweets_df.describe().show()\n",
        "\n",
        "# Count null values in each column\n",
        "print(\"\\nNull Value Counts:\")\n",
        "null_counts = {}\n",
        "for column in tweets_df.columns:\n",
        "    hive_query = f\"\"\"\n",
        "    SELECT SUM(CASE WHEN {column} IS NULL THEN 1 ELSE 0 END) AS {column}\n",
        "    FROM company_tweets\n",
        "    \"\"\"\n",
        "    result = spark.sql(hive_query).collect()[0]\n",
        "    null_counts[column] = result[column]\n",
        "print(null_counts)\n"
      ],
      "metadata": {
        "colab": {
          "base_uri": "https://localhost:8080/"
        },
        "id": "aLG_tHZKC75L",
        "outputId": "4ecc2447-953b-48bd-99f5-0e01eaa99c83"
      },
      "execution_count": 4,
      "outputs": [
        {
          "output_type": "stream",
          "name": "stdout",
          "text": [
            "DataFrame Schema:\n",
            "root\n",
            " |-- tweet_id: long (nullable = true)\n",
            " |-- writer: string (nullable = true)\n",
            " |-- post_date: integer (nullable = true)\n",
            " |-- body: string (nullable = true)\n",
            " |-- comment_num: string (nullable = true)\n",
            " |-- retweet_num: string (nullable = true)\n",
            " |-- like_num: string (nullable = true)\n",
            "\n",
            "\n",
            "Summary Statistics:\n",
            "+-------+--------------------+--------------------+-------------------+--------------------+--------------------+--------------------+--------------------+\n",
            "|summary|            tweet_id|              writer|          post_date|                body|         comment_num|         retweet_num|            like_num|\n",
            "+-------+--------------------+--------------------+-------------------+--------------------+--------------------+--------------------+--------------------+\n",
            "|  count|             3717964|             3670691|            3717964|             3717964|             3717811|             3717780|             3717894|\n",
            "|   mean|8.797443660974791...|1.0945856918732395E9|1.498582375894431E9|                NULL| 0.32996077716450056|  0.6237552160129605|  2.1645075269083707|\n",
            "| stddev|1.924038976639339...| 7.163518801556405E8|4.587266389545654E7|                NULL|   6.760168133266608|   7.975710892543258|  14.423706697523514|\n",
            "|    min|  550441509175443456|           0000derek|         1420070457|                 ...|                    |                    |                    |\n",
            "|    max| 1212160477159206912|           zzzzziggy|         1577836553|🗠 Friday begins ...|…\"\" https://twitt...|…\"\" http://seekin...|…\"\" http://stks.c...|\n",
            "+-------+--------------------+--------------------+-------------------+--------------------+--------------------+--------------------+--------------------+\n",
            "\n",
            "\n",
            "Null Value Counts:\n",
            "{'tweet_id': 0, 'writer': 47273, 'post_date': 0, 'body': 0, 'comment_num': 153, 'retweet_num': 184, 'like_num': 70}\n"
          ]
        }
      ]
    },
    {
      "cell_type": "markdown",
      "source": [
        "#### NULL and Non-Numeric values in columns"
      ],
      "metadata": {
        "id": "nEMS8qPlFTy2"
      }
    },
    {
      "cell_type": "code",
      "source": [
        "from pyspark.sql.functions import col, sum as _sum\n",
        "#null_counts = tweets_df.select([_sum(col(c).isNull().cast(\"int\")).alias(c) for c in tweets_df.columns])\n",
        "null_counts.show()\n",
        "\n",
        "tweets_df.filter(~col(\"like_num\").cast(\"string\").rlike(\"^\\\\d+$\") | (col(\"like_num\") == \"\")).show(5)\n",
        "\n",
        "tweets_df.filter(tweets_df[\"like_num\"].isNull()).show(5)"
      ],
      "metadata": {
        "colab": {
          "base_uri": "https://localhost:8080/"
        },
        "id": "UjUvRtrMpifG",
        "outputId": "0fb7bc54-91af-4a4e-881d-e793bf4bb44b"
      },
      "execution_count": 14,
      "outputs": [
        {
          "output_type": "stream",
          "name": "stdout",
          "text": [
            "+--------+------+---------+----+-----------+-----------+--------+\n",
            "|tweet_id|writer|post_date|body|comment_num|retweet_num|like_num|\n",
            "+--------+------+---------+----+-----------+-----------+--------+\n",
            "|       0| 47273|        0|   0|        153|        184|      70|\n",
            "+--------+------+---------+----+-----------+-----------+--------+\n",
            "\n",
            "+------------------+--------------+----------+--------------------+--------------+--------------------+--------------------+\n",
            "|          tweet_id|        writer| post_date|                body|   comment_num|         retweet_num|            like_num|\n",
            "+------------------+--------------+----------+--------------------+--------------+--------------------+--------------------+\n",
            "|550704687469453314|     jjen_abel|1420133203|\"\"\"Safety used to...| US treasuries| blue-chip stocks...|               $AAPL|\n",
            "|550824655377158144|    LukasFittl|1420161806|\"\"\"Safety used to...| US treasuries| and blue chip st...|               $AAPL|\n",
            "|551020289308782592|mesutdarendeli|1420208449|\"\"\"Safety used to...| US treasuries| and blue chip st...|               $AAPL|\n",
            "|551894325202661377|     derek_chu|1420416835|\".@cdixon @Jason ...|          $IBM|               $DELL|              $TSLA\"|\n",
            "|552025577339633664|       QP_AAPL|1420448128|\"$AAPL News: \"\"Da...|           OPK|                SNCR| GPRE $IFT $AAPL ...|\n",
            "+------------------+--------------+----------+--------------------+--------------+--------------------+--------------------+\n",
            "only showing top 5 rows\n",
            "\n",
            "+------------------+---------------+----------+--------------------+--------------------+-----------+--------+\n",
            "|          tweet_id|         writer| post_date|                body|         comment_num|retweet_num|like_num|\n",
            "+------------------+---------------+----------+--------------------+--------------------+-----------+--------+\n",
            "|558306183098802178|       ybfmiami|1421945541|\"$TSLA South Caro...|              ,0,0,0|       NULL|    NULL|\n",
            "|578703579541688320|LATimesFreshInk|1426808659|\"Via @npratc, @Me...|              ,0,0,0|       NULL|    NULL|\n",
            "|581181675800899584| OwensAssetFund|1427399484|\"\"\"@bman1: \"\"@Owe...|                NULL|       NULL|    NULL|\n",
            "|588328180290818049| AdmiralRoadCap|1429103343|\"The EU has a \"\"t...| they do like to ...|       NULL|    NULL|\n",
            "|593558587449872385|   CookieStocks|1430350369|\"Before you wonde...|\"\" ask \"\"Am I doi...|     ,0,0,0|    NULL|\n",
            "+------------------+---------------+----------+--------------------+--------------------+-----------+--------+\n",
            "only showing top 5 rows\n",
            "\n"
          ]
        }
      ]
    },
    {
      "cell_type": "code",
      "source": [
        "# Remove rows with null values (equivalent to dropna() in Pandas)\n",
        "tweets_df.createOrReplaceTempView(\"temp_tweets\")\n",
        "tweets_df_cleaned = spark.sql(\"SELECT * FROM temp_tweets WHERE writer IS NOT NULL and comment_num IS NOT NULL and retweet_num IS NOT NULL and like_num IS NOT NULL \")\n",
        "\n",
        "# Display the number of rows before and after removing null values\n",
        "print(f\"\\nNumber of Rows Before Removing Null Values: {tweets_df.count()}\")\n",
        "print(f\"Number of Rows After Removing Null Values: {tweets_df_cleaned.count()}\")\n",
        "\n",
        "# Display the first few rows of the cleaned DataFrame\n",
        "print(\"\\nFirst Few Rows of Cleaned DataFrame:\")\n",
        "tweets_df_cleaned.show(5)"
      ],
      "metadata": {
        "colab": {
          "base_uri": "https://localhost:8080/"
        },
        "id": "4_pKFlMGDlOY",
        "outputId": "42b63f78-1477-40af-d9d1-c79c65f4873d"
      },
      "execution_count": 5,
      "outputs": [
        {
          "output_type": "stream",
          "name": "stdout",
          "text": [
            "\n",
            "Number of Rows Before Removing Null Values: 3717964\n",
            "Number of Rows After Removing Null Values: 3670484\n",
            "\n",
            "First Few Rows of Cleaned DataFrame:\n",
            "+------------------+---------------+----------+--------------------+-----------+-----------+--------+\n",
            "|          tweet_id|         writer| post_date|                body|comment_num|retweet_num|like_num|\n",
            "+------------------+---------------+----------+--------------------+-----------+-----------+--------+\n",
            "|550441509175443456|VisualStockRSRC|1420070457|lx21 made $10,008...|          0|          0|       1|\n",
            "|550441672312512512|    KeralaGuy77|1420070496|Insanity of today...|          0|          0|       0|\n",
            "|550441732014223360|    DozenStocks|1420070510|S&P100 #Stocks Pe...|          0|          0|       0|\n",
            "|550442977802207232|   ShowDreamCar|1420070807|$GM $TSLA: Volksw...|          0|          0|       1|\n",
            "|550443807834402816|   i_Know_First|1420071005|Swing Trading: Up...|          0|          0|       1|\n",
            "+------------------+---------------+----------+--------------------+-----------+-----------+--------+\n",
            "only showing top 5 rows\n",
            "\n"
          ]
        }
      ]
    },
    {
      "cell_type": "code",
      "source": [
        "from pyspark.sql.functions import udf\n",
        "from pyspark.sql.types import BooleanType\n",
        "\n",
        "# Define the is_numeric UDF\n",
        "def is_numeric(value):\n",
        "    try:\n",
        "        float(value)\n",
        "        return True\n",
        "    except ValueError:\n",
        "        return False\n",
        "\n",
        "# Register the UDF with Spark\n",
        "spark.udf.register(\"is_numeric\", is_numeric, BooleanType())\n",
        "\n",
        "# Register a temporary view for the cleaned DataFrame\n",
        "tweets_df_cleaned.createOrReplaceTempView(\"cleaned_tweets\")\n",
        "\n",
        "# Create a new view with converted numeric columns\n",
        "spark.sql(\"\"\"\n",
        "CREATE OR REPLACE TEMPORARY VIEW cleaned_tweets_numeric AS\n",
        "SELECT\n",
        "    tweet_id,\n",
        "    writer,\n",
        "    post_date,\n",
        "    body,\n",
        "    CASE WHEN is_numeric(comment_num) THEN comment_num ELSE 0 END AS comment_num_numeric,\n",
        "    CASE WHEN is_numeric(retweet_num) THEN retweet_num ELSE 0 END AS retweet_num_numeric,\n",
        "    CASE WHEN is_numeric(like_num) THEN like_num ELSE 0 END AS like_num_numeric\n",
        "FROM cleaned_tweets\n",
        "\"\"\")\n",
        "tweets_df_cleaned = spark.sql(\"SELECT * FROM cleaned_tweets_numeric limit 10\")\n",
        "tweets_df_cleaned.show(10)"
      ],
      "metadata": {
        "colab": {
          "base_uri": "https://localhost:8080/"
        },
        "id": "jJqlMD39JDg8",
        "outputId": "c3dcfd9a-549e-498e-96d8-a94b81eae74c"
      },
      "execution_count": 6,
      "outputs": [
        {
          "output_type": "stream",
          "name": "stdout",
          "text": [
            "+------------------+---------------+----------+--------------------+-------------------+-------------------+----------------+\n",
            "|          tweet_id|         writer| post_date|                body|comment_num_numeric|retweet_num_numeric|like_num_numeric|\n",
            "+------------------+---------------+----------+--------------------+-------------------+-------------------+----------------+\n",
            "|550441509175443456|VisualStockRSRC|1420070457|lx21 made $10,008...|                  0|                  0|               1|\n",
            "|550441672312512512|    KeralaGuy77|1420070496|Insanity of today...|                  0|                  0|               0|\n",
            "|550441732014223360|    DozenStocks|1420070510|S&P100 #Stocks Pe...|                  0|                  0|               0|\n",
            "|550442977802207232|   ShowDreamCar|1420070807|$GM $TSLA: Volksw...|                  0|                  0|               1|\n",
            "|550443807834402816|   i_Know_First|1420071005|Swing Trading: Up...|                  0|                  0|               1|\n",
            "|550443808606126081|  aaplstocknews|1420071005|Swing Trading: Up...|                  0|                  0|               1|\n",
            "|550443809700851716|     iknowfirst|1420071005|Swing Trading: Up...|                  0|                  0|               1|\n",
            "|550443857142611968|    Cprediction|1420071016|Swing Trading: Up...|                  0|                  0|               1|\n",
            "|550443857595600896|  iknowfirst_br|1420071017|Swing Trading: Up...|                  0|                  0|               1|\n",
            "|550443857692078081|Gold_prediction|1420071017|Swing Trading: Up...|                  0|                  0|               1|\n",
            "+------------------+---------------+----------+--------------------+-------------------+-------------------+----------------+\n",
            "\n"
          ]
        }
      ]
    },
    {
      "cell_type": "markdown",
      "source": [
        "##### Join Cleaned Tweets Data and Tweets Symbol"
      ],
      "metadata": {
        "id": "Bv5B7Nzhd9LW"
      }
    },
    {
      "cell_type": "code",
      "source": [
        "# Join the cleaned_tweets_numeric view with tweets_symbol table\n",
        "joined_df = spark.sql(\"\"\"\n",
        "    SELECT ctn.*, ts.ticker_symbol\n",
        "    FROM cleaned_tweets_numeric AS ctn\n",
        "    LEFT JOIN tweets_symbol AS ts\n",
        "    ON ctn.tweet_id = ts.tweet_id\n",
        "\"\"\")\n",
        "\n",
        "# Create a new table 'tweets_dataset' from the joined DataFrame\n",
        "joined_df.write.mode(\"overwrite\").saveAsTable(\"tweets_dataset\")\n",
        "tweets_dataset = spark.sql(\"SELECT * FROM tweets_dataset\")\n",
        "tweets_dataset.show(5)"
      ],
      "metadata": {
        "colab": {
          "base_uri": "https://localhost:8080/"
        },
        "id": "W0v--YKid7uR",
        "outputId": "54bc4b16-37b8-4f03-9667-570e238a8c55"
      },
      "execution_count": 7,
      "outputs": [
        {
          "output_type": "stream",
          "name": "stdout",
          "text": [
            "+------------------+--------------+----------+--------------------+-------------------+-------------------+----------------+-------------+\n",
            "|          tweet_id|        writer| post_date|                body|comment_num_numeric|retweet_num_numeric|like_num_numeric|ticker_symbol|\n",
            "+------------------+--------------+----------+--------------------+-------------------+-------------------+----------------+-------------+\n",
            "|550441732014223360|   DozenStocks|1420070510|S&P100 #Stocks Pe...|                  0|                  0|               0|         AMZN|\n",
            "|550443807834402816|  i_Know_First|1420071005|Swing Trading: Up...|                  0|                  0|               1|         AAPL|\n",
            "|550443807834402816|  i_Know_First|1420071005|Swing Trading: Up...|                  0|                  0|               1|         TSLA|\n",
            "|550444970738335744|  espositooooo|1420071282|“@WSJ: Apple is b...|                  0|                  0|               0|         AAPL|\n",
            "|550447850857828352|JorelLaraKalel|1420071969|Top 10 searched #...|                  0|                  0|               2|         AAPL|\n",
            "+------------------+--------------+----------+--------------------+-------------------+-------------------+----------------+-------------+\n",
            "only showing top 5 rows\n",
            "\n"
          ]
        }
      ]
    },
    {
      "cell_type": "code",
      "source": [
        "spark.sql(\"SELECT * FROM cleaned_tweets_numeric where tweet_id = '551631380007096320' \").show(truncate=False)\n",
        "spark.sql(\"SELECT count(*) FROM tweets_dataset\").show()"
      ],
      "metadata": {
        "colab": {
          "base_uri": "https://localhost:8080/"
        },
        "id": "ec2nmdwEfNTp",
        "outputId": "e8e5878c-302a-416c-aaec-e790e474306c"
      },
      "execution_count": 67,
      "outputs": [
        {
          "output_type": "stream",
          "name": "stdout",
          "text": [
            "+------------------+---------+----------+-------------------------------------------------------------------------------------------------------------------+-------------------+-------------------+----------------+\n",
            "|tweet_id          |writer   |post_date |body                                                                                                               |comment_num_numeric|retweet_num_numeric|like_num_numeric|\n",
            "+------------------+---------+----------+-------------------------------------------------------------------------------------------------------------------+-------------------+-------------------+----------------+\n",
            "|551631380007096320|Sara20992|1420354144|Free 5€ in account balance for first 100.000 members! http://ift.tt/1vWqQqa $LNKD $AAPL $GOOGL $GOOG $FB $YHOO #ptc|0                  |0                  |0               |\n",
            "+------------------+---------+----------+-------------------------------------------------------------------------------------------------------------------+-------------------+-------------------+----------------+\n",
            "\n",
            "+--------+\n",
            "|count(1)|\n",
            "+--------+\n",
            "| 4280314|\n",
            "+--------+\n",
            "\n"
          ]
        }
      ]
    },
    {
      "cell_type": "code",
      "source": [
        "# Define the output path in Google Drive\n",
        "output_path = \"/content/drive/MyDrive/Courses/Sem 2/Big data /tweets_dataset.csv\"\n",
        "\n",
        "# Save the tweets_dataset table as a CSV file\n",
        "spark.table(\"tweets_dataset\").write.csv(output_path, header=True)\n",
        "\n",
        "# tweets_dataset_pd = spark.table(\"tweets_dataset\").toPandas()\n",
        "# tweets_dataset_pd.to_csv(\"/content/drive/MyDrive/Courses/Sem 2/Big data /tweets_dataset_1.csv\", header=True)"
      ],
      "metadata": {
        "id": "Blo-7NeflFpp"
      },
      "execution_count": 8,
      "outputs": []
    },
    {
      "cell_type": "code",
      "source": [
        "# import pandas as pd\n",
        "# import numpy as np\n",
        "\n",
        "# tweets_dataset_pd = pd.read_csv(\"/content/drive/MyDrive/Courses/Sem 2/Big data /tweets_dataset_1.csv\")\n",
        "# tweets_dataset_pd =tweets_dataset_pd.drop('Unnamed: 0',axis=1)\n",
        "# tweets_dataset_pd.head(2)"
      ],
      "metadata": {
        "colab": {
          "base_uri": "https://localhost:8080/",
          "height": 112
        },
        "id": "AqAOQozjCBkV",
        "outputId": "2e5281e5-f502-4e13-bdd8-218f97d00c0e"
      },
      "execution_count": 19,
      "outputs": [
        {
          "output_type": "execute_result",
          "data": {
            "text/plain": [
              "             tweet_id        writer   post_date  \\\n",
              "0  550441732014223360   DozenStocks  1420070510   \n",
              "1  550443807834402816  i_Know_First  1420071005   \n",
              "\n",
              "                                                body  comment_num_numeric  \\\n",
              "0  S&P100 #Stocks Performance $HD $LOW $SBUX $TGT...                    0   \n",
              "1  Swing Trading: Up To 8.91% Return In 14 Days h...                    0   \n",
              "\n",
              "   retweet_num_numeric  like_num_numeric ticker_symbol  \n",
              "0                  0.0               0.0          AMZN  \n",
              "1                  0.0               1.0          AAPL  "
            ],
            "text/html": [
              "\n",
              "  <div id=\"df-23542e5d-4685-49cf-a6bd-774b6038fff9\" class=\"colab-df-container\">\n",
              "    <div>\n",
              "<style scoped>\n",
              "    .dataframe tbody tr th:only-of-type {\n",
              "        vertical-align: middle;\n",
              "    }\n",
              "\n",
              "    .dataframe tbody tr th {\n",
              "        vertical-align: top;\n",
              "    }\n",
              "\n",
              "    .dataframe thead th {\n",
              "        text-align: right;\n",
              "    }\n",
              "</style>\n",
              "<table border=\"1\" class=\"dataframe\">\n",
              "  <thead>\n",
              "    <tr style=\"text-align: right;\">\n",
              "      <th></th>\n",
              "      <th>tweet_id</th>\n",
              "      <th>writer</th>\n",
              "      <th>post_date</th>\n",
              "      <th>body</th>\n",
              "      <th>comment_num_numeric</th>\n",
              "      <th>retweet_num_numeric</th>\n",
              "      <th>like_num_numeric</th>\n",
              "      <th>ticker_symbol</th>\n",
              "    </tr>\n",
              "  </thead>\n",
              "  <tbody>\n",
              "    <tr>\n",
              "      <th>0</th>\n",
              "      <td>550441732014223360</td>\n",
              "      <td>DozenStocks</td>\n",
              "      <td>1420070510</td>\n",
              "      <td>S&amp;P100 #Stocks Performance $HD $LOW $SBUX $TGT...</td>\n",
              "      <td>0</td>\n",
              "      <td>0.0</td>\n",
              "      <td>0.0</td>\n",
              "      <td>AMZN</td>\n",
              "    </tr>\n",
              "    <tr>\n",
              "      <th>1</th>\n",
              "      <td>550443807834402816</td>\n",
              "      <td>i_Know_First</td>\n",
              "      <td>1420071005</td>\n",
              "      <td>Swing Trading: Up To 8.91% Return In 14 Days h...</td>\n",
              "      <td>0</td>\n",
              "      <td>0.0</td>\n",
              "      <td>1.0</td>\n",
              "      <td>AAPL</td>\n",
              "    </tr>\n",
              "  </tbody>\n",
              "</table>\n",
              "</div>\n",
              "    <div class=\"colab-df-buttons\">\n",
              "\n",
              "  <div class=\"colab-df-container\">\n",
              "    <button class=\"colab-df-convert\" onclick=\"convertToInteractive('df-23542e5d-4685-49cf-a6bd-774b6038fff9')\"\n",
              "            title=\"Convert this dataframe to an interactive table.\"\n",
              "            style=\"display:none;\">\n",
              "\n",
              "  <svg xmlns=\"http://www.w3.org/2000/svg\" height=\"24px\" viewBox=\"0 -960 960 960\">\n",
              "    <path d=\"M120-120v-720h720v720H120Zm60-500h600v-160H180v160Zm220 220h160v-160H400v160Zm0 220h160v-160H400v160ZM180-400h160v-160H180v160Zm440 0h160v-160H620v160ZM180-180h160v-160H180v160Zm440 0h160v-160H620v160Z\"/>\n",
              "  </svg>\n",
              "    </button>\n",
              "\n",
              "  <style>\n",
              "    .colab-df-container {\n",
              "      display:flex;\n",
              "      gap: 12px;\n",
              "    }\n",
              "\n",
              "    .colab-df-convert {\n",
              "      background-color: #E8F0FE;\n",
              "      border: none;\n",
              "      border-radius: 50%;\n",
              "      cursor: pointer;\n",
              "      display: none;\n",
              "      fill: #1967D2;\n",
              "      height: 32px;\n",
              "      padding: 0 0 0 0;\n",
              "      width: 32px;\n",
              "    }\n",
              "\n",
              "    .colab-df-convert:hover {\n",
              "      background-color: #E2EBFA;\n",
              "      box-shadow: 0px 1px 2px rgba(60, 64, 67, 0.3), 0px 1px 3px 1px rgba(60, 64, 67, 0.15);\n",
              "      fill: #174EA6;\n",
              "    }\n",
              "\n",
              "    .colab-df-buttons div {\n",
              "      margin-bottom: 4px;\n",
              "    }\n",
              "\n",
              "    [theme=dark] .colab-df-convert {\n",
              "      background-color: #3B4455;\n",
              "      fill: #D2E3FC;\n",
              "    }\n",
              "\n",
              "    [theme=dark] .colab-df-convert:hover {\n",
              "      background-color: #434B5C;\n",
              "      box-shadow: 0px 1px 3px 1px rgba(0, 0, 0, 0.15);\n",
              "      filter: drop-shadow(0px 1px 2px rgba(0, 0, 0, 0.3));\n",
              "      fill: #FFFFFF;\n",
              "    }\n",
              "  </style>\n",
              "\n",
              "    <script>\n",
              "      const buttonEl =\n",
              "        document.querySelector('#df-23542e5d-4685-49cf-a6bd-774b6038fff9 button.colab-df-convert');\n",
              "      buttonEl.style.display =\n",
              "        google.colab.kernel.accessAllowed ? 'block' : 'none';\n",
              "\n",
              "      async function convertToInteractive(key) {\n",
              "        const element = document.querySelector('#df-23542e5d-4685-49cf-a6bd-774b6038fff9');\n",
              "        const dataTable =\n",
              "          await google.colab.kernel.invokeFunction('convertToInteractive',\n",
              "                                                    [key], {});\n",
              "        if (!dataTable) return;\n",
              "\n",
              "        const docLinkHtml = 'Like what you see? Visit the ' +\n",
              "          '<a target=\"_blank\" href=https://colab.research.google.com/notebooks/data_table.ipynb>data table notebook</a>'\n",
              "          + ' to learn more about interactive tables.';\n",
              "        element.innerHTML = '';\n",
              "        dataTable['output_type'] = 'display_data';\n",
              "        await google.colab.output.renderOutput(dataTable, element);\n",
              "        const docLink = document.createElement('div');\n",
              "        docLink.innerHTML = docLinkHtml;\n",
              "        element.appendChild(docLink);\n",
              "      }\n",
              "    </script>\n",
              "  </div>\n",
              "\n",
              "\n",
              "<div id=\"df-3c9855b6-6860-48c8-bd04-5f1162c827ac\">\n",
              "  <button class=\"colab-df-quickchart\" onclick=\"quickchart('df-3c9855b6-6860-48c8-bd04-5f1162c827ac')\"\n",
              "            title=\"Suggest charts\"\n",
              "            style=\"display:none;\">\n",
              "\n",
              "<svg xmlns=\"http://www.w3.org/2000/svg\" height=\"24px\"viewBox=\"0 0 24 24\"\n",
              "     width=\"24px\">\n",
              "    <g>\n",
              "        <path d=\"M19 3H5c-1.1 0-2 .9-2 2v14c0 1.1.9 2 2 2h14c1.1 0 2-.9 2-2V5c0-1.1-.9-2-2-2zM9 17H7v-7h2v7zm4 0h-2V7h2v10zm4 0h-2v-4h2v4z\"/>\n",
              "    </g>\n",
              "</svg>\n",
              "  </button>\n",
              "\n",
              "<style>\n",
              "  .colab-df-quickchart {\n",
              "      --bg-color: #E8F0FE;\n",
              "      --fill-color: #1967D2;\n",
              "      --hover-bg-color: #E2EBFA;\n",
              "      --hover-fill-color: #174EA6;\n",
              "      --disabled-fill-color: #AAA;\n",
              "      --disabled-bg-color: #DDD;\n",
              "  }\n",
              "\n",
              "  [theme=dark] .colab-df-quickchart {\n",
              "      --bg-color: #3B4455;\n",
              "      --fill-color: #D2E3FC;\n",
              "      --hover-bg-color: #434B5C;\n",
              "      --hover-fill-color: #FFFFFF;\n",
              "      --disabled-bg-color: #3B4455;\n",
              "      --disabled-fill-color: #666;\n",
              "  }\n",
              "\n",
              "  .colab-df-quickchart {\n",
              "    background-color: var(--bg-color);\n",
              "    border: none;\n",
              "    border-radius: 50%;\n",
              "    cursor: pointer;\n",
              "    display: none;\n",
              "    fill: var(--fill-color);\n",
              "    height: 32px;\n",
              "    padding: 0;\n",
              "    width: 32px;\n",
              "  }\n",
              "\n",
              "  .colab-df-quickchart:hover {\n",
              "    background-color: var(--hover-bg-color);\n",
              "    box-shadow: 0 1px 2px rgba(60, 64, 67, 0.3), 0 1px 3px 1px rgba(60, 64, 67, 0.15);\n",
              "    fill: var(--button-hover-fill-color);\n",
              "  }\n",
              "\n",
              "  .colab-df-quickchart-complete:disabled,\n",
              "  .colab-df-quickchart-complete:disabled:hover {\n",
              "    background-color: var(--disabled-bg-color);\n",
              "    fill: var(--disabled-fill-color);\n",
              "    box-shadow: none;\n",
              "  }\n",
              "\n",
              "  .colab-df-spinner {\n",
              "    border: 2px solid var(--fill-color);\n",
              "    border-color: transparent;\n",
              "    border-bottom-color: var(--fill-color);\n",
              "    animation:\n",
              "      spin 1s steps(1) infinite;\n",
              "  }\n",
              "\n",
              "  @keyframes spin {\n",
              "    0% {\n",
              "      border-color: transparent;\n",
              "      border-bottom-color: var(--fill-color);\n",
              "      border-left-color: var(--fill-color);\n",
              "    }\n",
              "    20% {\n",
              "      border-color: transparent;\n",
              "      border-left-color: var(--fill-color);\n",
              "      border-top-color: var(--fill-color);\n",
              "    }\n",
              "    30% {\n",
              "      border-color: transparent;\n",
              "      border-left-color: var(--fill-color);\n",
              "      border-top-color: var(--fill-color);\n",
              "      border-right-color: var(--fill-color);\n",
              "    }\n",
              "    40% {\n",
              "      border-color: transparent;\n",
              "      border-right-color: var(--fill-color);\n",
              "      border-top-color: var(--fill-color);\n",
              "    }\n",
              "    60% {\n",
              "      border-color: transparent;\n",
              "      border-right-color: var(--fill-color);\n",
              "    }\n",
              "    80% {\n",
              "      border-color: transparent;\n",
              "      border-right-color: var(--fill-color);\n",
              "      border-bottom-color: var(--fill-color);\n",
              "    }\n",
              "    90% {\n",
              "      border-color: transparent;\n",
              "      border-bottom-color: var(--fill-color);\n",
              "    }\n",
              "  }\n",
              "</style>\n",
              "\n",
              "  <script>\n",
              "    async function quickchart(key) {\n",
              "      const quickchartButtonEl =\n",
              "        document.querySelector('#' + key + ' button');\n",
              "      quickchartButtonEl.disabled = true;  // To prevent multiple clicks.\n",
              "      quickchartButtonEl.classList.add('colab-df-spinner');\n",
              "      try {\n",
              "        const charts = await google.colab.kernel.invokeFunction(\n",
              "            'suggestCharts', [key], {});\n",
              "      } catch (error) {\n",
              "        console.error('Error during call to suggestCharts:', error);\n",
              "      }\n",
              "      quickchartButtonEl.classList.remove('colab-df-spinner');\n",
              "      quickchartButtonEl.classList.add('colab-df-quickchart-complete');\n",
              "    }\n",
              "    (() => {\n",
              "      let quickchartButtonEl =\n",
              "        document.querySelector('#df-3c9855b6-6860-48c8-bd04-5f1162c827ac button');\n",
              "      quickchartButtonEl.style.display =\n",
              "        google.colab.kernel.accessAllowed ? 'block' : 'none';\n",
              "    })();\n",
              "  </script>\n",
              "</div>\n",
              "\n",
              "    </div>\n",
              "  </div>\n"
            ],
            "application/vnd.google.colaboratory.intrinsic+json": {
              "type": "dataframe",
              "variable_name": "tweets_dataset_pd"
            }
          },
          "metadata": {},
          "execution_count": 19
        }
      ]
    },
    {
      "cell_type": "code",
      "source": [
        "tweets_dataset_pd['like_num_numeric'] = pd.to_numeric(tweets_dataset_pd['like_num_numeric'], errors='coerce')\n",
        "tweets_dataset_pd['comment_num_numeric'] = pd.to_numeric(tweets_dataset_pd['comment_num_numeric'], errors='coerce')\n",
        "tweets_dataset_pd['retweet_num_numeric'] = pd.to_numeric(tweets_dataset_pd['retweet_num_numeric'], errors='coerce')"
      ],
      "metadata": {
        "id": "ZBOwNVowwvwj"
      },
      "execution_count": 13,
      "outputs": []
    },
    {
      "cell_type": "code",
      "source": [
        "import matplotlib.pyplot as plt\n",
        "import pandas as pd\n",
        "\n",
        "\n",
        "# Calculate average length of body for each ticker_symbol\n",
        "avg_length_df = tweets_dataset_pd.groupby('ticker_symbol')['body'].apply(lambda x: x.str.len().mean()).reset_index()\n",
        "avg_length_df.columns = ['ticker_symbol', 'avg_body_length']\n",
        "\n",
        "# Plot bar plot for ticker_symbol vs average length of body\n",
        "plt.figure(figsize=(12, 6))\n",
        "plt.bar(avg_length_df['ticker_symbol'], avg_length_df['avg_body_length'], color='skyblue', edgecolor='black')\n",
        "plt.xlabel('Ticker Symbol')\n",
        "plt.ylabel('Average Length of Body')\n",
        "plt.title('Average Length of Body for each Ticker Symbol')\n",
        "plt.xticks(rotation=45, ha='right')\n",
        "plt.tight_layout()\n",
        "plt.show()\n",
        "\n",
        "# Calculate average no of likes for each ticker_symbol\n",
        "avg_like_df = tweets_dataset_pd.groupby('ticker_symbol')['like_num_numeric'].apply(lambda x: x.mean()).reset_index()\n",
        "avg_like_df.columns = ['ticker_symbol', 'avg_no_of_likes']\n",
        "\n",
        "# Plot bar plot for ticker_symbol vs average length of body\n",
        "plt.figure(figsize=(10, 6))\n",
        "plt.bar(avg_like_df['ticker_symbol'], avg_like_df['avg_no_of_likes'], color='skyblue', edgecolor='black')\n",
        "plt.xlabel('Ticker Symbol')\n",
        "plt.ylabel('Average Number of Likes')\n",
        "plt.title('Average Number of Likes for each Ticker Symbol')\n",
        "plt.xticks(rotation=45, ha='right')\n",
        "plt.tight_layout()\n",
        "plt.show()\n",
        "\n",
        "# Calculate average no of comments for each ticker_symbol\n",
        "avg_cm_df = tweets_dataset_pd.groupby('ticker_symbol')['comment_num_numeric'].apply(lambda x: x.mean()).reset_index()\n",
        "avg_cm_df.columns = ['ticker_symbol', 'avg_no_of_comments']\n",
        "\n",
        "# Plot bar plot for ticker_symbol vs average length of body\n",
        "plt.figure(figsize=(10, 6))\n",
        "plt.bar(avg_cm_df['ticker_symbol'], avg_cm_df['avg_no_of_comments'], color='skyblue', edgecolor='black')\n",
        "plt.xlabel('Ticker Symbol')\n",
        "plt.ylabel('Average Number of Comments')\n",
        "plt.title('Average Number of Comments for each Ticker Symbol')\n",
        "plt.xticks(rotation=45, ha='right')\n",
        "plt.tight_layout()\n",
        "plt.show()\n",
        "\n",
        "\n",
        "# Calculate average no of comments for each ticker_symbol\n",
        "avg_rt_df = tweets_dataset_pd.groupby('ticker_symbol')['retweet_num_numeric'].apply(lambda x: x.mean()).reset_index()\n",
        "avg_rt_df.columns = ['ticker_symbol', 'avg_no_of_rts']\n",
        "\n",
        "# Plot bar plot for ticker_symbol vs average length of body\n",
        "plt.figure(figsize=(10, 6))\n",
        "plt.bar(avg_rt_df['ticker_symbol'], avg_rt_df['avg_no_of_rts'], color='skyblue', edgecolor='black')\n",
        "plt.xlabel('Ticker Symbol')\n",
        "plt.ylabel('Average Number of Retweets')\n",
        "plt.title('Average Number of Retweets for each Ticker Symbol')\n",
        "plt.xticks(rotation=45, ha='right')\n",
        "plt.tight_layout()\n",
        "plt.show()\n",
        "\n",
        "\n",
        "\n",
        "# Plot bar plot for top 10 ticker symbols with most tweets\n",
        "top_ticker_symbols = tweets_dataset_pd['ticker_symbol'].value_counts().nlargest(10)\n",
        "plt.figure(figsize=(12, 6))\n",
        "top_ticker_symbols.plot(kind='bar', color='skyblue', edgecolor='black')\n",
        "plt.xlabel('Ticker Symbol')\n",
        "plt.ylabel('Number of Tweets (in 10 Lakhs)')\n",
        "plt.title('Top 10 Ticker Symbols with Most Tweets')\n",
        "plt.xticks(rotation=45, ha='right')\n",
        "plt.tight_layout()\n",
        "plt.show()\n"
      ],
      "metadata": {
        "colab": {
          "base_uri": "https://localhost:8080/",
          "height": 1000
        },
        "id": "6ti-DnKKXNkM",
        "outputId": "67739705-4510-4215-c6fa-140edebca013"
      },
      "execution_count": 33,
      "outputs": [
        {
          "output_type": "display_data",
          "data": {
            "text/plain": [
              "<Figure size 1200x600 with 1 Axes>"
            ],
            "image/png": "[encoded data removed]"
          },
          "metadata": {}
        },
        {
          "output_type": "display_data",
          "data": {
            "text/plain": [
              "<Figure size 1000x600 with 1 Axes>"
            ],
            "image/png": "[encoded data removed]"
          },
          "metadata": {}
        },
        {
          "output_type": "display_data",
          "data": {
            "text/plain": [
              "<Figure size 1000x600 with 1 Axes>"
            ],
            "image/png": "[encoded data removed]"
          },
          "metadata": {}
        },
        {
          "output_type": "display_data",
          "data": {
            "text/plain": [
              "<Figure size 1000x600 with 1 Axes>"
            ],
            "image/png": "[encoded data removed]"
          },
          "metadata": {}
        },
        {
          "output_type": "display_data",
          "data": {
            "text/plain": [
              "<Figure size 1200x600 with 1 Axes>"
            ],
            "image/png": "[encoded data removed]"
          },
          "metadata": {}
        }
      ]
    },
    {
      "cell_type": "code",
      "source": [
        "import seaborn as sns\n",
        "\n",
        "# Select numerical columns from the DataFrame\n",
        "numerical_columns = ['like_num_numeric', 'comment_num_numeric', 'retweet_num_numeric']\n",
        "\n",
        "# Filter the DataFrame to include only numerical columns\n",
        "numerical_df = tweets_dataset_pd[numerical_columns]\n",
        "\n",
        "# Calculate the correlation matrix\n",
        "correlation_matrix = numerical_df.corr()\n",
        "\n",
        "# Plot heatmap\n",
        "plt.figure(figsize=(10, 6))\n",
        "sns.heatmap(correlation_matrix, annot=True, cmap='coolwarm', fmt=\".2f\", linewidths=.5)\n",
        "plt.title('Correlation Heatmap of Numerical Columns in tweets_dataset')\n",
        "plt.show()\n"
      ],
      "metadata": {
        "colab": {
          "base_uri": "https://localhost:8080/",
          "height": 545
        },
        "id": "fqFr3mZjzpPp",
        "outputId": "850789f4-66d2-4a1a-c2a2-315f59dcdfed"
      },
      "execution_count": 43,
      "outputs": [
        {
          "output_type": "display_data",
          "data": {
            "text/plain": [
              "<Figure size 1000x600 with 2 Axes>"
            ],
            "image/png": "[encoded data removed]"
          },
          "metadata": {}
        }
      ]
    },
    {
      "cell_type": "code",
      "source": [
        "tweets_dataset_pd.head()"
      ],
      "metadata": {
        "colab": {
          "base_uri": "https://localhost:8080/",
          "height": 206
        },
        "id": "fduCIbpyvINJ",
        "outputId": "a13d3c80-9a1c-485a-bba1-b7e9309c9ada"
      },
      "execution_count": 24,
      "outputs": [
        {
          "output_type": "execute_result",
          "data": {
            "text/plain": [
              "             tweet_id          writer   post_date  \\\n",
              "0  550441732014223360     DozenStocks  1420070510   \n",
              "1  550443807834402816    i_Know_First  1420071005   \n",
              "2  550443807834402816    i_Know_First  1420071005   \n",
              "3  550444970738335744    espositooooo  1420071282   \n",
              "4  550447850857828352  JorelLaraKalel  1420071969   \n",
              "\n",
              "                                                body comment_num_numeric  \\\n",
              "0  S&P100 #Stocks Performance $HD $LOW $SBUX $TGT...                   0   \n",
              "1  Swing Trading: Up To 8.91% Return In 14 Days h...                   0   \n",
              "2  Swing Trading: Up To 8.91% Return In 14 Days h...                   0   \n",
              "3  “@WSJ: Apple is being sued for falsely adverti...                   0   \n",
              "4  Top 10 searched #stocks of #2014 $AAPL $FB $BA...                   0   \n",
              "\n",
              "  retweet_num_numeric  like_num_numeric ticker_symbol  \n",
              "0                   0               0.0          AMZN  \n",
              "1                   0               1.0          AAPL  \n",
              "2                   0               1.0          TSLA  \n",
              "3                   0               0.0          AAPL  \n",
              "4                   0               2.0          AAPL  "
            ],
            "text/html": [
              "\n",
              "  <div id=\"df-9a928234-8e16-4707-8dda-9150abac4e14\" class=\"colab-df-container\">\n",
              "    <div>\n",
              "<style scoped>\n",
              "    .dataframe tbody tr th:only-of-type {\n",
              "        vertical-align: middle;\n",
              "    }\n",
              "\n",
              "    .dataframe tbody tr th {\n",
              "        vertical-align: top;\n",
              "    }\n",
              "\n",
              "    .dataframe thead th {\n",
              "        text-align: right;\n",
              "    }\n",
              "</style>\n",
              "<table border=\"1\" class=\"dataframe\">\n",
              "  <thead>\n",
              "    <tr style=\"text-align: right;\">\n",
              "      <th></th>\n",
              "      <th>tweet_id</th>\n",
              "      <th>writer</th>\n",
              "      <th>post_date</th>\n",
              "      <th>body</th>\n",
              "      <th>comment_num_numeric</th>\n",
              "      <th>retweet_num_numeric</th>\n",
              "      <th>like_num_numeric</th>\n",
              "      <th>ticker_symbol</th>\n",
              "    </tr>\n",
              "  </thead>\n",
              "  <tbody>\n",
              "    <tr>\n",
              "      <th>0</th>\n",
              "      <td>550441732014223360</td>\n",
              "      <td>DozenStocks</td>\n",
              "      <td>1420070510</td>\n",
              "      <td>S&amp;P100 #Stocks Performance $HD $LOW $SBUX $TGT...</td>\n",
              "      <td>0</td>\n",
              "      <td>0</td>\n",
              "      <td>0.0</td>\n",
              "      <td>AMZN</td>\n",
              "    </tr>\n",
              "    <tr>\n",
              "      <th>1</th>\n",
              "      <td>550443807834402816</td>\n",
              "      <td>i_Know_First</td>\n",
              "      <td>1420071005</td>\n",
              "      <td>Swing Trading: Up To 8.91% Return In 14 Days h...</td>\n",
              "      <td>0</td>\n",
              "      <td>0</td>\n",
              "      <td>1.0</td>\n",
              "      <td>AAPL</td>\n",
              "    </tr>\n",
              "    <tr>\n",
              "      <th>2</th>\n",
              "      <td>550443807834402816</td>\n",
              "      <td>i_Know_First</td>\n",
              "      <td>1420071005</td>\n",
              "      <td>Swing Trading: Up To 8.91% Return In 14 Days h...</td>\n",
              "      <td>0</td>\n",
              "      <td>0</td>\n",
              "      <td>1.0</td>\n",
              "      <td>TSLA</td>\n",
              "    </tr>\n",
              "    <tr>\n",
              "      <th>3</th>\n",
              "      <td>550444970738335744</td>\n",
              "      <td>espositooooo</td>\n",
              "      <td>1420071282</td>\n",
              "      <td>“@WSJ: Apple is being sued for falsely adverti...</td>\n",
              "      <td>0</td>\n",
              "      <td>0</td>\n",
              "      <td>0.0</td>\n",
              "      <td>AAPL</td>\n",
              "    </tr>\n",
              "    <tr>\n",
              "      <th>4</th>\n",
              "      <td>550447850857828352</td>\n",
              "      <td>JorelLaraKalel</td>\n",
              "      <td>1420071969</td>\n",
              "      <td>Top 10 searched #stocks of #2014 $AAPL $FB $BA...</td>\n",
              "      <td>0</td>\n",
              "      <td>0</td>\n",
              "      <td>2.0</td>\n",
              "      <td>AAPL</td>\n",
              "    </tr>\n",
              "  </tbody>\n",
              "</table>\n",
              "</div>\n",
              "    <div class=\"colab-df-buttons\">\n",
              "\n",
              "  <div class=\"colab-df-container\">\n",
              "    <button class=\"colab-df-convert\" onclick=\"convertToInteractive('df-9a928234-8e16-4707-8dda-9150abac4e14')\"\n",
              "            title=\"Convert this dataframe to an interactive table.\"\n",
              "            style=\"display:none;\">\n",
              "\n",
              "  <svg xmlns=\"http://www.w3.org/2000/svg\" height=\"24px\" viewBox=\"0 -960 960 960\">\n",
              "    <path d=\"M120-120v-720h720v720H120Zm60-500h600v-160H180v160Zm220 220h160v-160H400v160Zm0 220h160v-160H400v160ZM180-400h160v-160H180v160Zm440 0h160v-160H620v160ZM180-180h160v-160H180v160Zm440 0h160v-160H620v160Z\"/>\n",
              "  </svg>\n",
              "    </button>\n",
              "\n",
              "  <style>\n",
              "    .colab-df-container {\n",
              "      display:flex;\n",
              "      gap: 12px;\n",
              "    }\n",
              "\n",
              "    .colab-df-convert {\n",
              "      background-color: #E8F0FE;\n",
              "      border: none;\n",
              "      border-radius: 50%;\n",
              "      cursor: pointer;\n",
              "      display: none;\n",
              "      fill: #1967D2;\n",
              "      height: 32px;\n",
              "      padding: 0 0 0 0;\n",
              "      width: 32px;\n",
              "    }\n",
              "\n",
              "    .colab-df-convert:hover {\n",
              "      background-color: #E2EBFA;\n",
              "      box-shadow: 0px 1px 2px rgba(60, 64, 67, 0.3), 0px 1px 3px 1px rgba(60, 64, 67, 0.15);\n",
              "      fill: #174EA6;\n",
              "    }\n",
              "\n",
              "    .colab-df-buttons div {\n",
              "      margin-bottom: 4px;\n",
              "    }\n",
              "\n",
              "    [theme=dark] .colab-df-convert {\n",
              "      background-color: #3B4455;\n",
              "      fill: #D2E3FC;\n",
              "    }\n",
              "\n",
              "    [theme=dark] .colab-df-convert:hover {\n",
              "      background-color: #434B5C;\n",
              "      box-shadow: 0px 1px 3px 1px rgba(0, 0, 0, 0.15);\n",
              "      filter: drop-shadow(0px 1px 2px rgba(0, 0, 0, 0.3));\n",
              "      fill: #FFFFFF;\n",
              "    }\n",
              "  </style>\n",
              "\n",
              "    <script>\n",
              "      const buttonEl =\n",
              "        document.querySelector('#df-9a928234-8e16-4707-8dda-9150abac4e14 button.colab-df-convert');\n",
              "      buttonEl.style.display =\n",
              "        google.colab.kernel.accessAllowed ? 'block' : 'none';\n",
              "\n",
              "      async function convertToInteractive(key) {\n",
              "        const element = document.querySelector('#df-9a928234-8e16-4707-8dda-9150abac4e14');\n",
              "        const dataTable =\n",
              "          await google.colab.kernel.invokeFunction('convertToInteractive',\n",
              "                                                    [key], {});\n",
              "        if (!dataTable) return;\n",
              "\n",
              "        const docLinkHtml = 'Like what you see? Visit the ' +\n",
              "          '<a target=\"_blank\" href=https://colab.research.google.com/notebooks/data_table.ipynb>data table notebook</a>'\n",
              "          + ' to learn more about interactive tables.';\n",
              "        element.innerHTML = '';\n",
              "        dataTable['output_type'] = 'display_data';\n",
              "        await google.colab.output.renderOutput(dataTable, element);\n",
              "        const docLink = document.createElement('div');\n",
              "        docLink.innerHTML = docLinkHtml;\n",
              "        element.appendChild(docLink);\n",
              "      }\n",
              "    </script>\n",
              "  </div>\n",
              "\n",
              "\n",
              "<div id=\"df-7ed12ae0-6221-4776-9cf2-91e30f4a7706\">\n",
              "  <button class=\"colab-df-quickchart\" onclick=\"quickchart('df-7ed12ae0-6221-4776-9cf2-91e30f4a7706')\"\n",
              "            title=\"Suggest charts\"\n",
              "            style=\"display:none;\">\n",
              "\n",
              "<svg xmlns=\"http://www.w3.org/2000/svg\" height=\"24px\"viewBox=\"0 0 24 24\"\n",
              "     width=\"24px\">\n",
              "    <g>\n",
              "        <path d=\"M19 3H5c-1.1 0-2 .9-2 2v14c0 1.1.9 2 2 2h14c1.1 0 2-.9 2-2V5c0-1.1-.9-2-2-2zM9 17H7v-7h2v7zm4 0h-2V7h2v10zm4 0h-2v-4h2v4z\"/>\n",
              "    </g>\n",
              "</svg>\n",
              "  </button>\n",
              "\n",
              "<style>\n",
              "  .colab-df-quickchart {\n",
              "      --bg-color: #E8F0FE;\n",
              "      --fill-color: #1967D2;\n",
              "      --hover-bg-color: #E2EBFA;\n",
              "      --hover-fill-color: #174EA6;\n",
              "      --disabled-fill-color: #AAA;\n",
              "      --disabled-bg-color: #DDD;\n",
              "  }\n",
              "\n",
              "  [theme=dark] .colab-df-quickchart {\n",
              "      --bg-color: #3B4455;\n",
              "      --fill-color: #D2E3FC;\n",
              "      --hover-bg-color: #434B5C;\n",
              "      --hover-fill-color: #FFFFFF;\n",
              "      --disabled-bg-color: #3B4455;\n",
              "      --disabled-fill-color: #666;\n",
              "  }\n",
              "\n",
              "  .colab-df-quickchart {\n",
              "    background-color: var(--bg-color);\n",
              "    border: none;\n",
              "    border-radius: 50%;\n",
              "    cursor: pointer;\n",
              "    display: none;\n",
              "    fill: var(--fill-color);\n",
              "    height: 32px;\n",
              "    padding: 0;\n",
              "    width: 32px;\n",
              "  }\n",
              "\n",
              "  .colab-df-quickchart:hover {\n",
              "    background-color: var(--hover-bg-color);\n",
              "    box-shadow: 0 1px 2px rgba(60, 64, 67, 0.3), 0 1px 3px 1px rgba(60, 64, 67, 0.15);\n",
              "    fill: var(--button-hover-fill-color);\n",
              "  }\n",
              "\n",
              "  .colab-df-quickchart-complete:disabled,\n",
              "  .colab-df-quickchart-complete:disabled:hover {\n",
              "    background-color: var(--disabled-bg-color);\n",
              "    fill: var(--disabled-fill-color);\n",
              "    box-shadow: none;\n",
              "  }\n",
              "\n",
              "  .colab-df-spinner {\n",
              "    border: 2px solid var(--fill-color);\n",
              "    border-color: transparent;\n",
              "    border-bottom-color: var(--fill-color);\n",
              "    animation:\n",
              "      spin 1s steps(1) infinite;\n",
              "  }\n",
              "\n",
              "  @keyframes spin {\n",
              "    0% {\n",
              "      border-color: transparent;\n",
              "      border-bottom-color: var(--fill-color);\n",
              "      border-left-color: var(--fill-color);\n",
              "    }\n",
              "    20% {\n",
              "      border-color: transparent;\n",
              "      border-left-color: var(--fill-color);\n",
              "      border-top-color: var(--fill-color);\n",
              "    }\n",
              "    30% {\n",
              "      border-color: transparent;\n",
              "      border-left-color: var(--fill-color);\n",
              "      border-top-color: var(--fill-color);\n",
              "      border-right-color: var(--fill-color);\n",
              "    }\n",
              "    40% {\n",
              "      border-color: transparent;\n",
              "      border-right-color: var(--fill-color);\n",
              "      border-top-color: var(--fill-color);\n",
              "    }\n",
              "    60% {\n",
              "      border-color: transparent;\n",
              "      border-right-color: var(--fill-color);\n",
              "    }\n",
              "    80% {\n",
              "      border-color: transparent;\n",
              "      border-right-color: var(--fill-color);\n",
              "      border-bottom-color: var(--fill-color);\n",
              "    }\n",
              "    90% {\n",
              "      border-color: transparent;\n",
              "      border-bottom-color: var(--fill-color);\n",
              "    }\n",
              "  }\n",
              "</style>\n",
              "\n",
              "  <script>\n",
              "    async function quickchart(key) {\n",
              "      const quickchartButtonEl =\n",
              "        document.querySelector('#' + key + ' button');\n",
              "      quickchartButtonEl.disabled = true;  // To prevent multiple clicks.\n",
              "      quickchartButtonEl.classList.add('colab-df-spinner');\n",
              "      try {\n",
              "        const charts = await google.colab.kernel.invokeFunction(\n",
              "            'suggestCharts', [key], {});\n",
              "      } catch (error) {\n",
              "        console.error('Error during call to suggestCharts:', error);\n",
              "      }\n",
              "      quickchartButtonEl.classList.remove('colab-df-spinner');\n",
              "      quickchartButtonEl.classList.add('colab-df-quickchart-complete');\n",
              "    }\n",
              "    (() => {\n",
              "      let quickchartButtonEl =\n",
              "        document.querySelector('#df-7ed12ae0-6221-4776-9cf2-91e30f4a7706 button');\n",
              "      quickchartButtonEl.style.display =\n",
              "        google.colab.kernel.accessAllowed ? 'block' : 'none';\n",
              "    })();\n",
              "  </script>\n",
              "</div>\n",
              "\n",
              "    </div>\n",
              "  </div>\n"
            ],
            "application/vnd.google.colaboratory.intrinsic+json": {
              "type": "dataframe",
              "variable_name": "tweets_dataset_pd"
            }
          },
          "metadata": {},
          "execution_count": 24
        }
      ]
    },
    {
      "cell_type": "markdown",
      "source": [
        "#### HiveQL querying"
      ],
      "metadata": {
        "id": "XId79JyCJxcD"
      }
    },
    {
      "cell_type": "code",
      "source": [
        "# Count of Distinct Writers\n",
        "distinct_writers_count = spark.sql(\"\"\"\n",
        "SELECT COUNT(DISTINCT writer) AS distinct_writer_count\n",
        "FROM tweets_dataset\n",
        "\"\"\")\n",
        "distinct_writers_count.show()"
      ],
      "metadata": {
        "colab": {
          "base_uri": "https://localhost:8080/"
        },
        "id": "VT1U_8tXJ3FU",
        "outputId": "60c209fd-a00a-4fe0-9e58-fbf51423b564"
      },
      "execution_count": 34,
      "outputs": [
        {
          "output_type": "stream",
          "name": "stdout",
          "text": [
            "+---------------------+\n",
            "|distinct_writer_count|\n",
            "+---------------------+\n",
            "|               140128|\n",
            "+---------------------+\n",
            "\n"
          ]
        }
      ]
    },
    {
      "cell_type": "code",
      "source": [
        "# Top 5 Writers with Most Number of Tweets\n",
        "top_writers = spark.sql(\"\"\"\n",
        "SELECT writer, COUNT(*) AS tweet_count\n",
        "FROM tweets_dataset\n",
        "GROUP BY writer\n",
        "ORDER BY tweet_count DESC\n",
        "LIMIT 5\n",
        "\"\"\")\n",
        "top_writers.show()\n"
      ],
      "metadata": {
        "colab": {
          "base_uri": "https://localhost:8080/"
        },
        "id": "izQSy2L8LxpL",
        "outputId": "c89e05de-e103-4947-f84d-7506fda18166"
      },
      "execution_count": 35,
      "outputs": [
        {
          "output_type": "stream",
          "name": "stdout",
          "text": [
            "+--------------+-----------+\n",
            "|        writer|tweet_count|\n",
            "+--------------+-----------+\n",
            "|       App_sw_|      91740|\n",
            "|  _peripherals|      91461|\n",
            "|computer_hware|      90919|\n",
            "| PortfolioBuzz|      87910|\n",
            "| It_c0nsulting|      75270|\n",
            "+--------------+-----------+\n",
            "\n"
          ]
        }
      ]
    },
    {
      "cell_type": "code",
      "source": [
        "# Top 5 Liked Tweets\n",
        "top_liked_tweets = spark.sql(\"\"\"\n",
        "SELECT tweet_id, writer, body, like_num_numeric\n",
        "FROM tweets_dataset\n",
        "ORDER BY like_num_numeric DESC\n",
        "LIMIT 5\n",
        "\"\"\")\n",
        "top_liked_tweets.show(truncate=False)\n"
      ],
      "metadata": {
        "colab": {
          "base_uri": "https://localhost:8080/"
        },
        "id": "c3gIJmCeL_sT",
        "outputId": "910d324c-3c59-415f-efb5-5ee887e9ab75"
      },
      "execution_count": 36,
      "outputs": [
        {
          "output_type": "stream",
          "name": "stdout",
          "text": [
            "+-------------------+------------+-----------------------------------------------------------------------------------------------------------------------------------------------------------------------------------------------------------------------------------------------------------------------+----------------+\n",
            "|tweet_id           |writer      |body                                                                                                                                                                                                                                                                   |like_num_numeric|\n",
            "+-------------------+------------+-----------------------------------------------------------------------------------------------------------------------------------------------------------------------------------------------------------------------------------------------------------------------+----------------+\n",
            "|985661686874066946 |markbspiegel|\"\"\"This is gonna sound crazy but...You know that $500 million I just raised for SpaceX? Well                                                                                                                                                                           |999             |\n",
            "|992113509742858240 |llsethj     |Nice of @elonmusk to create a buying opportunity for long $TSLA folks                                                                                                                                                                                                  |999             |\n",
            "|1081601704347557888|BSA19741    |Popular Science 1952 pulp fiction. Everything old is new again. $tsla                                                                                                                                                                                                  |995             |\n",
            "|959211703769722880 |Sandro_power|$SPY $CAT $FDX $AMZN $TSLA $GS $TWTR  come and join the live stream in about 3 hours, I am the big picture expert ,do yourself a favour and come to my  live stream and look to become a serious follower on PowergroupTrades if your serious about making money $STUDY|99              |\n",
            "|1008831679492837376|skabooshka  |Please fucking believe @skabooshka knows how to research frauds. $TSLA                                                                                                                                                                                                 |99              |\n",
            "+-------------------+------------+-----------------------------------------------------------------------------------------------------------------------------------------------------------------------------------------------------------------------------------------------------------------------+----------------+\n",
            "\n"
          ]
        }
      ]
    },
    {
      "cell_type": "code",
      "source": [
        "# Top 5 Retweeted Tweets\n",
        "top_retweeted_tweets = spark.sql(\"\"\"\n",
        "SELECT tweet_id, writer, body, retweet_num_numeric\n",
        "FROM tweets_dataset\n",
        "ORDER BY retweet_num_numeric DESC\n",
        "LIMIT 5\n",
        "\"\"\")\n",
        "top_retweeted_tweets.show(truncate=False)"
      ],
      "metadata": {
        "colab": {
          "base_uri": "https://localhost:8080/"
        },
        "id": "eZ7Hmic6MAFB",
        "outputId": "3b97da2f-d9dd-46b6-b7d2-417e705c6d86"
      },
      "execution_count": 37,
      "outputs": [
        {
          "output_type": "stream",
          "name": "stdout",
          "text": [
            "+-------------------+--------------+--------------------------------------------------------------------------------------------------------------------------------------------------------------------------------------------------------------------+-------------------+\n",
            "|tweet_id           |writer        |body                                                                                                                                                                                                                |retweet_num_numeric|\n",
            "+-------------------+--------------+--------------------------------------------------------------------------------------------------------------------------------------------------------------------------------------------------------------------+-------------------+\n",
            "|685205321443196928 |iSPYTrading   |$SPY 1-7-16 Full Day #TapeReading What a day.. $AAPL $VXX $GPRO                                                                                                                                                     |999                |\n",
            "|642317350457450496 |philstockworld|Thank God We're in CASH!!! $AAPL #Apple $TZA $GS #Oil #Hedging #PortfolioManagement -- http://philstockworld.com/2015/09/11/tgif-thank-god-were-in-cash/…                                                           |999                |\n",
            "|692350977580666882 |philstockworld|Which Way Wednesday - Waiting on the Fed $AAPL $BA $UCO $IWM #FuturesTrading #Webinar -- http://philstockworld.com/2016/01/27/which-way-wednesday-waiting-on-the-fed-3/…                                            |998                |\n",
            "|913035172114780160 |philstockworld|Which Way Wednesday - How Durable Is the Economy? $SPY $AMZN $WMT $T $GE @Nasdaq @jillmalandrino -- http://philstockworld.com/2017/09/27/which-way-wednesday-how-durable-is-the-economy/…                           |995                |\n",
            "|1037553492917932032|tecnocato     |How to create a ”@Tesla Killer” in 3 simple steps. Step 1: remove gasoline engine; Step 2: add motors and a battery pack; Step 3: cover hole. Voila!  Optional steps: add new grille; wish nobody notices it. $tsla |99                 |\n",
            "+-------------------+--------------+--------------------------------------------------------------------------------------------------------------------------------------------------------------------------------------------------------------------+-------------------+\n",
            "\n"
          ]
        }
      ]
    },
    {
      "cell_type": "code",
      "source": [
        "# Top 5 Commented Tweets\n",
        "top_commented_tweets = spark.sql(\"\"\"\n",
        "SELECT tweet_id, writer, body, comment_num_numeric\n",
        "FROM tweets_dataset\n",
        "ORDER BY comment_num_numeric DESC\n",
        "LIMIT 5\n",
        "\"\"\")\n",
        "top_commented_tweets.show(truncate=False)\n"
      ],
      "metadata": {
        "colab": {
          "base_uri": "https://localhost:8080/"
        },
        "id": "9P56OQtHMAHy",
        "outputId": "ba2b76d9-8da4-444e-c129-64650e194ff6"
      },
      "execution_count": 38,
      "outputs": [
        {
          "output_type": "stream",
          "name": "stdout",
          "text": [
            "+-------------------+--------------+---------------------------------------------------------------------------------------------------------------------------------------------------------------------------------------------------------------------------------------------------------------------------------------+-------------------+\n",
            "|tweet_id           |writer        |body                                                                                                                                                                                                                                                                                   |comment_num_numeric|\n",
            "+-------------------+--------------+---------------------------------------------------------------------------------------------------------------------------------------------------------------------------------------------------------------------------------------------------------------------------------------+-------------------+\n",
            "|1129470224384843776|RampCapitalLLC|What happens if $TSLA breaks $200?                                                                                                                                                                                                                                                     |99                 |\n",
            "|1003593821723267072|nikitonsky    |So I heard $MSFT is buying @github                                                                                                                                                                                                                                                     |99                 |\n",
            "|1176514574196981760|GerberKawasaki|Selling Tesla because Nio sucks is absurd. That’s like selling Apple because Samsung phones catch fire. Whatever.. Tesla car sales numbers coming out next week. $tsla $nio $aapl                                                                                                      |98                 |\n",
            "|1131382542894940161|GerberKawasaki|The FUD merchants told you they couldn’t raise money.  They were wrong. They told you the SEC would jail musk. They were wrong. They said they would run out of money. Wrong again. Now they say people around the world don’t want EVs. They’re wrong. Hang in there Tesla fans. $tsla|98                 |\n",
            "|1176514574196981760|GerberKawasaki|Selling Tesla because Nio sucks is absurd. That’s like selling Apple because Samsung phones catch fire. Whatever.. Tesla car sales numbers coming out next week. $tsla $nio $aapl                                                                                                      |98                 |\n",
            "+-------------------+--------------+---------------------------------------------------------------------------------------------------------------------------------------------------------------------------------------------------------------------------------------------------------------------------------------+-------------------+\n",
            "\n"
          ]
        }
      ]
    },
    {
      "cell_type": "code",
      "source": [
        "# Convert post_date to Date Format for Any 5 Rows and Display\n",
        "converted_dates = spark.sql(\"\"\"\n",
        "SELECT tweet_id, writer, body,\n",
        "       from_unixtime(post_date) AS post_date_formatted\n",
        "FROM tweets_dataset\n",
        "LIMIT 5\n",
        "\"\"\")\n",
        "converted_dates.show(truncate=False)\n"
      ],
      "metadata": {
        "colab": {
          "base_uri": "https://localhost:8080/"
        },
        "id": "UWUZo4urMAKJ",
        "outputId": "6eb98339-d8a6-4ddf-f393-b693aa24e43f"
      },
      "execution_count": 39,
      "outputs": [
        {
          "output_type": "stream",
          "name": "stdout",
          "text": [
            "+------------------+--------------+----------------------------------------------------------------------------------------------------------------------------------------+-------------------+\n",
            "|tweet_id          |writer        |body                                                                                                                                    |post_date_formatted|\n",
            "+------------------+--------------+----------------------------------------------------------------------------------------------------------------------------------------+-------------------+\n",
            "|550441732014223360|DozenStocks   |S&P100 #Stocks Performance $HD $LOW $SBUX $TGT $DVN $IBM $AMZN $F $APA $GM $MS $HAL $DIS $MCD $BMY $XOM  more@ http://12Stocks.com/sp100|2015-01-01 00:01:50|\n",
            "|550443807834402816|i_Know_First  |Swing Trading: Up To 8.91% Return In 14 Days http://ow.ly/GDks0 #swingtrading #forecast #techstock $MWW $AAPL $TSLA                     |2015-01-01 00:10:05|\n",
            "|550443807834402816|i_Know_First  |Swing Trading: Up To 8.91% Return In 14 Days http://ow.ly/GDks0 #swingtrading #forecast #techstock $MWW $AAPL $TSLA                     |2015-01-01 00:10:05|\n",
            "|550444970738335744|espositooooo  |“@WSJ: Apple is being sued for falsely advertising the storage capacity of iPhones: http://on.wsj.com/13TL64c $AAPL”                    |2015-01-01 00:14:42|\n",
            "|550447850857828352|JorelLaraKalel|Top 10 searched #stocks of #2014 $AAPL $FB $BABA $TSLA $BAC $GOOG $INTC $GE $TWTR $AMZN http://stks.co/g1V5S http://stks.co/h1VAb       |2015-01-01 00:26:09|\n",
            "+------------------+--------------+----------------------------------------------------------------------------------------------------------------------------------------+-------------------+\n",
            "\n"
          ]
        }
      ]
    },
    {
      "cell_type": "code",
      "source": [
        "# Average Length of the Body Column Values\n",
        "average_body_length = spark.sql(\"\"\"\n",
        "SELECT AVG(LENGTH(body)) AS average_body_length\n",
        "FROM tweets_dataset\n",
        "\"\"\")\n",
        "average_body_length.show()\n"
      ],
      "metadata": {
        "colab": {
          "base_uri": "https://localhost:8080/"
        },
        "id": "XJXyS16OMSuo",
        "outputId": "92569f47-d436-4813-db2b-2e28c2f37260"
      },
      "execution_count": 40,
      "outputs": [
        {
          "output_type": "stream",
          "name": "stdout",
          "text": [
            "+-------------------+\n",
            "|average_body_length|\n",
            "+-------------------+\n",
            "| 130.12279099150203|\n",
            "+-------------------+\n",
            "\n"
          ]
        }
      ]
    },
    {
      "cell_type": "code",
      "source": [
        "# The top writer for each ticker_symbol\n",
        "hive_query = \"\"\"\n",
        "SELECT ticker_symbol, writer, tweet_count\n",
        "FROM (\n",
        "    SELECT ticker_symbol, writer, COUNT(*) AS tweet_count,\n",
        "           RANK() OVER (PARTITION BY ticker_symbol ORDER BY COUNT(*) DESC) AS rank\n",
        "    FROM tweets_dataset\n",
        "    GROUP BY ticker_symbol, writer\n",
        ") ranked\n",
        "WHERE rank = 1\n",
        "\"\"\"\n",
        "\n",
        "# Execute the query\n",
        "top_writers_df = spark.sql(hive_query)\n",
        "\n",
        "# Show the results\n",
        "top_writers_df.show()"
      ],
      "metadata": {
        "colab": {
          "base_uri": "https://localhost:8080/"
        },
        "id": "YtIHT2Rwy7oq",
        "outputId": "077d7672-11d9-4178-e617-2fa505241674"
      },
      "execution_count": 41,
      "outputs": [
        {
          "output_type": "stream",
          "name": "stdout",
          "text": [
            "+-------------+---------------+-----------+\n",
            "|ticker_symbol|         writer|tweet_count|\n",
            "+-------------+---------------+-----------+\n",
            "|         AAPL|   _peripherals|      91424|\n",
            "|         AMZN|     retail_Dbt|      44093|\n",
            "|         GOOG|  It_c0nsulting|      75058|\n",
            "|        GOOGL|ExactOptionPick|      18819|\n",
            "|         MSFT|        App_sw_|      91639|\n",
            "|         TSLA|   markbspiegel|      17953|\n",
            "+-------------+---------------+-----------+\n",
            "\n"
          ]
        }
      ]
    },
    {
      "cell_type": "markdown",
      "source": [
        "#### Beam Data Processing"
      ],
      "metadata": {
        "id": "kd0dbh8f3hrI"
      }
    },
    {
      "cell_type": "code",
      "source": [
        "#!pip install apache_beam\n",
        "import apache_beam as beam\n",
        "import nltk\n",
        "from nltk.corpus import stopwords\n",
        "from nltk.sentiment.vader import SentimentIntensityAnalyzer\n",
        "\n",
        "\n",
        "output_path = '/content/drive/MyDrive/Courses/Sem 2/Big data /tweets'\n",
        "\n",
        "import apache_beam as beam\n",
        "from nltk.corpus import stopwords\n",
        "from nltk.sentiment.vader import SentimentIntensityAnalyzer\n",
        "\n",
        "# Initialize NLTK resources\n",
        "stop_words = set(stopwords.words('english'))\n",
        "sid = SentimentIntensityAnalyzer()\n",
        "\n",
        "def tokenize_tweet(tweet):\n",
        "    # Tokenize the tweet text and remove stop words\n",
        "    tokens = [token.lower() for token in tweet.split() if token.lower() not in stop_words]\n",
        "    return tokens\n",
        "\n",
        "def label_sentiment(tweet):\n",
        "    # Label the sentiment of each token using NLTK Vader\n",
        "    sentiment_score = sid.polarity_scores(tweet)['compound']\n",
        "    if sentiment_score > 0.05:\n",
        "        return 'positive'\n",
        "    elif sentiment_score < -0.05:\n",
        "        return 'negative'\n",
        "    else:\n",
        "        return 'neutral'\n",
        "\n",
        "with beam.Pipeline() as pipeline:\n",
        "    # Read data from the tweets_dataset_pd DataFrame\n",
        "    tweets = (\n",
        "        pipeline\n",
        "        | 'Read from source' >> beam.Create(tweets_dataset_pd['body'][:10].tolist())\n",
        "        | 'Label sentiment' >> beam.Map(lambda tweet: (tweet, label_sentiment(tweet)))\n",
        "        | 'Write to output' >> beam.io.WriteToText(output_path, file_name_suffix='.csv')\n",
        "    )\n",
        "\n",
        "# Read the output files into a PySpark DataFrame\n",
        "output_df = spark.read.csv(output_path + '*.csv', header=False, inferSchema=True)\n",
        "output_df = output_df.withColumnRenamed('_c0', 'body').withColumnRenamed('_c1', 'sentiment')  # Rename the columns\n",
        "\n",
        "# Show the DataFrame\n",
        "output_df.show()"
      ],
      "metadata": {
        "colab": {
          "base_uri": "https://localhost:8080/"
        },
        "id": "HrVKlm9J3gOb",
        "outputId": "fbcf75e5-9df1-4ca0-aeb3-cdfd4485b5c7"
      },
      "execution_count": 24,
      "outputs": [
        {
          "output_type": "stream",
          "name": "stdout",
          "text": [
            "+------------------+---------------+----------+--------------------+-------------------+-------------------+----------------+-------------+\n",
            "|              body|      sentiment|       _c2|                 _c3|                _c4|                _c5|             _c6|          _c7|\n",
            "+------------------+---------------+----------+--------------------+-------------------+-------------------+----------------+-------------+\n",
            "|          tweet_id|         writer| post_date|                body|comment_num_numeric|retweet_num_numeric|like_num_numeric|ticker_symbol|\n",
            "|550441732014223360|    DozenStocks|1420070510|S&P100 #Stocks Pe...|                  0|                  0|               0|         AMZN|\n",
            "|550443807834402816|   i_Know_First|1420071005|Swing Trading: Up...|                  0|                  0|               1|         AAPL|\n",
            "|550443807834402816|   i_Know_First|1420071005|Swing Trading: Up...|                  0|                  0|               1|         TSLA|\n",
            "|550444970738335744|   espositooooo|1420071282|“@WSJ: Apple is b...|                  0|                  0|               0|         AAPL|\n",
            "|550447850857828352| JorelLaraKalel|1420071969|Top 10 searched #...|                  0|                  0|               2|         AAPL|\n",
            "|550447850857828352| JorelLaraKalel|1420071969|Top 10 searched #...|                  0|                  0|               2|         GOOG|\n",
            "|550447850857828352| JorelLaraKalel|1420071969|Top 10 searched #...|                  0|                  0|               2|         AMZN|\n",
            "|550447850857828352| JorelLaraKalel|1420071969|Top 10 searched #...|                  0|                  0|               2|         TSLA|\n",
            "|550448085789200384|    MacHashNews|1420072025|Give your brain a...|                  0|                  0|               0|         AAPL|\n",
            "|550453087731982336|       DCaptura|1420073217|\"\"\"http://iphone....|                  0|                  3|               3|         AAPL|\n",
            "|550453087731982336|       DCaptura|1420073217|\"\"\"http://iphone....|                  0|                  3|               3|         GOOG|\n",
            "|550455384734183424|StocksThatDoubl|1420073765|Want alerts for m...|                  0|                  0|               0|         AAPL|\n",
            "|550455384734183424|StocksThatDoubl|1420073765|Want alerts for m...|                  0|                  0|               0|         AMZN|\n",
            "|550455384734183424|StocksThatDoubl|1420073765|Want alerts for m...|                  0|                  0|               0|         MSFT|\n",
            "|550455534324047873|     caroltheva|1420073801|Sneaky techniques...|                  0|                  0|               0|         TSLA|\n",
            "|550458700402413569|    BoogieColin|1420074555|\"Lol \"\"@WSJ: Jeff...|                  0|                  0|               0|         AMZN|\n",
            "|550465988442214400|      valuewalk|1420076293|$MU $AAPL $SUNE P...|                  0|                  0|               4|         AAPL|\n",
            "|550467140688838656|  andrewlabutka|1420076568|@A_TRON3000 An id...|                  0|                  0|               0|         AMZN|\n",
            "|550471417754845184|     SentiQuant|1420077587|#SENTISHIFTUP $X ...|                  0|                  0|               0|        GOOGL|\n",
            "+------------------+---------------+----------+--------------------+-------------------+-------------------+----------------+-------------+\n",
            "only showing top 20 rows\n",
            "\n"
          ]
        }
      ]
    },
    {
      "cell_type": "markdown",
      "source": [
        "#### PySpark"
      ],
      "metadata": {
        "id": "LtuLK89eVnCJ"
      }
    },
    {
      "cell_type": "code",
      "source": [
        "from pyspark.sql import SparkSession\n",
        "from pyspark.sql.functions import udf\n",
        "from pyspark.sql.types import StringType\n",
        "import nltk\n",
        "from nltk.corpus import stopwords\n",
        "from nltk.sentiment.vader import SentimentIntensityAnalyzer\n",
        "\n",
        "# Initialize SparkSession\n",
        "spark = SparkSession.builder \\\n",
        "    .appName(\"SentimentAnalysis\") \\\n",
        "    .config(\"spark.sql.warehouse.dir\", \"/user/hive/warehouse\") \\\n",
        "    .config(\"spark.executor.memory\", \"4g\") \\\n",
        "    .config(\"spark.driver.memory\", \"4g\") \\\n",
        "    .config(\"spark.sql.shuffle.partitions\", \"8\") \\\n",
        "    .enableHiveSupport() \\\n",
        "    .getOrCreate()\n",
        "\n",
        "tweets_df = spark.sql(\"SELECT * FROM tweets_dataset\")\n",
        "\n",
        "# nltk.download('vader_lexicon')\n",
        "# nltk.download('stopwords')\n",
        "\n",
        "sia = SentimentIntensityAnalyzer()\n",
        "stop_words = set(stopwords.words('english'))\n",
        "\n",
        "def remove_stopwords(text):\n",
        "    words = text.split()\n",
        "    filtered_words = [word for word in words if word.lower() not in stop_words]\n",
        "    return ' '.join(filtered_words)\n",
        "\n",
        "remove_stopwords_udf = udf(remove_stopwords, StringType())\n",
        "\n",
        "def analyze_sentiment(text):\n",
        "    score = sia.polarity_scores(text)['compound']\n",
        "    if score > 0.05:\n",
        "        return \"positive\"\n",
        "    elif score < -0.05:\n",
        "        return \"negative\"\n",
        "    else:\n",
        "        return \"neutral\"\n",
        "\n",
        "analyze_sentiment_udf = udf(analyze_sentiment, StringType())\n",
        "\n",
        "\n",
        "tweets_df_cleaned = tweets_df.withColumn(\"cleaned_body\", remove_stopwords_udf(tweets_df['body']))\n",
        "tweets_df_with_sentiment = tweets_df_cleaned.withColumn(\"sentiment\", analyze_sentiment_udf(tweets_df_cleaned['cleaned_body']))\n",
        "\n",
        "\n",
        "tweets_df_with_sentiment.show(5)\n",
        "\n"
      ],
      "metadata": {
        "colab": {
          "base_uri": "https://localhost:8080/"
        },
        "id": "InD_iyWAVmih",
        "outputId": "a1758094-d4fe-4a5d-ae63-93c9d890cba8"
      },
      "execution_count": 34,
      "outputs": [
        {
          "output_type": "stream",
          "name": "stdout",
          "text": [
            "+-------+------------------+---------------+----------+--------------------+-------------------+-------------------+----------------+-------------+--------------------+---------+\n",
            "|    _c0|          tweet_id|         writer| post_date|                body|comment_num_numeric|retweet_num_numeric|like_num_numeric|ticker_symbol|        cleaned_body|sentiment|\n",
            "+-------+------------------+---------------+----------+--------------------+-------------------+-------------------+----------------+-------------+--------------------+---------+\n",
            "|1409583|984481894309023745|askwarrenbuffet|1523553749|Truly beneficial ...|                  0|                  0|               0|         GOOG|Truly beneficial ...| positive|\n",
            "|1409584|984481894309023745|askwarrenbuffet|1523553749|Truly beneficial ...|                  0|                  0|               0|         AMZN|Truly beneficial ...| positive|\n",
            "|1409585|984481894309023745|askwarrenbuffet|1523553749|Truly beneficial ...|                  0|                  0|               0|         MSFT|Truly beneficial ...| positive|\n",
            "|1409586|984481894309023745|askwarrenbuffet|1523553749|Truly beneficial ...|                  0|                  0|               0|         TSLA|Truly beneficial ...| positive|\n",
            "|1409587|984482396073594880|askwarrenbuffet|1523553868|The difference be...|                  0|                  0|               0|         AAPL|difference succes...| positive|\n",
            "+-------+------------------+---------------+----------+--------------------+-------------------+-------------------+----------------+-------------+--------------------+---------+\n",
            "only showing top 5 rows\n",
            "\n"
          ]
        }
      ]
    },
    {
      "cell_type": "code",
      "source": [
        "\n",
        "# Write the updated DataFrame to CSV\n",
        "#output_path = 'final_data.csv'\n",
        "#tweets_df_with_sentiment.toPandas().shape\n",
        "#.to_csv(output_path, header=True)\n",
        "tweets_df_with_sentiment.write.mode(\"overwrite\").saveAsTable(\"tweets_sentiment\")\n",
        "#print(f\"Data with sentiment column written to {output_path}\")"
      ],
      "metadata": {
        "id": "EYcx16AgbfRQ"
      },
      "execution_count": 36,
      "outputs": []
    },
    {
      "cell_type": "markdown",
      "source": [
        "#### Subsampling to 4L rows"
      ],
      "metadata": {
        "id": "vKGQZ3VKxx47"
      }
    },
    {
      "cell_type": "code",
      "source": [
        "import nltk\n",
        "\n",
        "nltk.download('vader_lexicon')\n",
        "nltk.download('stopwords')\n",
        "spark.sql(\"select count(*) from tweets_dataset\").show()"
      ],
      "metadata": {
        "colab": {
          "base_uri": "https://localhost:8080/"
        },
        "id": "ii4rYF2RxduG",
        "outputId": "db5ccc28-5d90-4dcb-ea4e-bc052d6d5514"
      },
      "execution_count": null,
      "outputs": [
        {
          "output_type": "stream",
          "name": "stdout",
          "text": [
            "+--------+\n",
            "|count(1)|\n",
            "+--------+\n",
            "| 4280314|\n",
            "+--------+\n",
            "\n"
          ]
        }
      ]
    },
    {
      "cell_type": "code",
      "source": [
        "from pyspark.sql import SparkSession\n",
        "from pyspark.sql.functions import udf\n",
        "from pyspark.sql.types import StringType\n",
        "import nltk\n",
        "from nltk.corpus import stopwords\n",
        "from nltk.sentiment.vader import SentimentIntensityAnalyzer\n",
        "\n",
        "# Initialize SparkSession\n",
        "spark = SparkSession.builder \\\n",
        "    .appName(\"SentimentAnalysis\") \\\n",
        "    .config(\"spark.sql.warehouse.dir\", \"/user/hive/warehouse\") \\\n",
        "    .config(\"spark.executor.memory\", \"4g\") \\\n",
        "    .config(\"spark.driver.memory\", \"4g\") \\\n",
        "    .config(\"spark.sql.shuffle.partitions\", \"8\") \\\n",
        "    .enableHiveSupport() \\\n",
        "    .getOrCreate()\n",
        "\n",
        "\n",
        "df = spark.sql(\"SELECT * FROM tweets_dataset limit 400000 \")\n",
        "\n",
        "nltk.download('vader_lexicon')\n",
        "nltk.download('stopwords')\n",
        "\n",
        "\n",
        "sia = SentimentIntensityAnalyzer()\n",
        "stop_words = set(stopwords.words('english'))\n",
        "\n",
        "\n",
        "def remove_stopwords(text):\n",
        "    words = text.split()\n",
        "    filtered_words = [word for word in words if word.lower() not in stop_words]\n",
        "    return ' '.join(filtered_words)\n",
        "\n",
        "remove_stopwords_udf = udf(remove_stopwords, StringType())\n",
        "\n",
        "# Define a UDF to analyze sentiment\n",
        "def analyze_sentiment(text):\n",
        "    score = sia.polarity_scores(text)['compound']\n",
        "    if score > 0.05:\n",
        "        return \"positive\"\n",
        "    elif score < -0.05:\n",
        "        return \"negative\"\n",
        "    else:\n",
        "        return \"neutral\"\n",
        "\n",
        "analyze_sentiment_udf = udf(analyze_sentiment, StringType())\n",
        "\n",
        "# Apply the UDFs to the DataFrame\n",
        "df_cleaned = df.withColumn(\"cleaned_body\", remove_stopwords_udf(df['body']))\n",
        "df_with_sentiment = df_cleaned.withColumn(\"sentiment\", analyze_sentiment_udf(df_cleaned['cleaned_body']))"
      ],
      "metadata": {
        "id": "VFcJ7eovxIu7"
      },
      "execution_count": null,
      "outputs": []
    },
    {
      "cell_type": "code",
      "source": [
        "df_with_sentiment.toPandas().to_csv(\"/content/drive/MyDrive/Courses/Sem 2/Big data /dataset_4L.csv\", header=True)"
      ],
      "metadata": {
        "id": "VW0EcUBzxz25"
      },
      "execution_count": null,
      "outputs": []
    },
    {
      "cell_type": "code",
      "source": [
        "from pyspark.sql.types import StructType, StructField, StringType, IntegerType\n",
        "schema = StructType([\n",
        "    StructField(\"_c0\", IntegerType(), True),\n",
        "    StructField(\"tweet_id\", StringType(), True),\n",
        "    StructField(\"writer\", StringType(), True),\n",
        "    StructField(\"post_date\", StringType(), True),\n",
        "    StructField(\"body\", StringType(), True),\n",
        "    StructField(\"comment_num_numeric\", IntegerType(), True),\n",
        "    StructField(\"retweet_num_numeric\", IntegerType(), True),\n",
        "    StructField(\"like_num_numeric\", IntegerType(), True),\n",
        "    StructField(\"ticker_symbol\", StringType(), True),\n",
        "    StructField(\"cleaned_body\", StringType(), True),\n",
        "    StructField(\"sentiment\", StringType(), True)\n",
        "])\n",
        "df_with_sentiment = spark.read.csv(\"/content/drive/MyDrive/Courses/Sem 2/Big data /dataset_4L.csv\", header=True, schema=schema)\n",
        "df_with_sentiment = df_with_sentiment.sample(withReplacement=False, fraction=0.1, seed=42)\n",
        "df_with_sentiment.head()"
      ],
      "metadata": {
        "colab": {
          "base_uri": "https://localhost:8080/"
        },
        "id": "QWG6ApZg3AJP",
        "outputId": "c88091c7-b2c1-4e2e-9ebc-4c844c5851d4"
      },
      "execution_count": null,
      "outputs": [
        {
          "output_type": "execute_result",
          "data": {
            "text/plain": [
              "Row(_c0=7, tweet_id='984087464640905216', writer='OACtrading', post_date='1523459709', body='NOW OFFERING 7 Day FREE Trial to  options day trading team Room or $TWTR feed http://ow.ly/UnjD30jqogY$PCLN $AAPL $NFLX $TSLA $AMZN $GOOGL', comment_num_numeric=0, retweet_num_numeric=None, like_num_numeric=None, ticker_symbol='TSLA', cleaned_body='OFFERING 7 Day FREE Trial options day trading team Room $TWTR feed http://ow.ly/UnjD30jqogY$PCLN $AAPL $NFLX $TSLA $AMZN $GOOGL', sentiment='positive')"
            ]
          },
          "metadata": {},
          "execution_count": 13
        }
      ]
    },
    {
      "cell_type": "code",
      "source": [
        "df_with_sentiment.count()"
      ],
      "metadata": {
        "colab": {
          "base_uri": "https://localhost:8080/"
        },
        "id": "eTbhBLrQYy01",
        "outputId": "91aac055-e44c-4cfb-eee6-3533b18234f8"
      },
      "execution_count": null,
      "outputs": [
        {
          "output_type": "execute_result",
          "data": {
            "text/plain": [
              "39853"
            ]
          },
          "metadata": {},
          "execution_count": 10
        }
      ]
    },
    {
      "cell_type": "markdown",
      "source": [
        "###  Sentiment Analysis"
      ],
      "metadata": {
        "id": "bIHvyPszx3f0"
      }
    },
    {
      "cell_type": "code",
      "source": [
        "data = spark.read.csv(\"/content/drive/MyDrive/Courses/Sem 2/Big data /dataset_4L.csv\", header=True, schema=schema)\n",
        "df = data\n",
        "df.show(5)"
      ],
      "metadata": {
        "colab": {
          "base_uri": "https://localhost:8080/"
        },
        "id": "Ahq0-q8dcO4Q",
        "outputId": "03aac796-525b-4639-92f1-2231dc742d00"
      },
      "execution_count": null,
      "outputs": [
        {
          "output_type": "stream",
          "name": "stdout",
          "text": [
            "+---+------------------+---------------+----------+--------------------+-------------------+-------------------+----------------+-------------+--------------------+---------+\n",
            "|_c0|          tweet_id|         writer| post_date|                body|comment_num_numeric|retweet_num_numeric|like_num_numeric|ticker_symbol|        cleaned_body|sentiment|\n",
            "+---+------------------+---------------+----------+--------------------+-------------------+-------------------+----------------+-------------+--------------------+---------+\n",
            "|  0|984085642253668352|askwarrenbuffet|1523459275|Your success will...|                  0|               NULL|            NULL|         GOOG|success come quic...| positive|\n",
            "|  1|984085642253668352|askwarrenbuffet|1523459275|Your success will...|                  0|               NULL|            NULL|         AMZN|success come quic...| positive|\n",
            "|  2|984085642253668352|askwarrenbuffet|1523459275|Your success will...|                  0|               NULL|            NULL|         MSFT|success come quic...| positive|\n",
            "|  3|984085642253668352|askwarrenbuffet|1523459275|Your success will...|                  0|               NULL|            NULL|         TSLA|success come quic...| positive|\n",
            "|  4|984087464640905216|     OACtrading|1523459709|NOW OFFERING 7 Da...|                  0|               NULL|            NULL|         AAPL|OFFERING 7 Day FR...| positive|\n",
            "+---+------------------+---------------+----------+--------------------+-------------------+-------------------+----------------+-------------+--------------------+---------+\n",
            "only showing top 5 rows\n",
            "\n"
          ]
        }
      ]
    },
    {
      "cell_type": "code",
      "source": [
        "from pyspark.ml.feature import Tokenizer\n",
        "tokenizer = Tokenizer(inputCol=\"cleaned_body\", outputCol=\"tokens\")\n",
        "df = tokenizer.transform(df)\n",
        "df.select(\"tokens\").show(5, truncate=False)"
      ],
      "metadata": {
        "colab": {
          "base_uri": "https://localhost:8080/"
        },
        "id": "mfi8g19Tgqc3",
        "outputId": "0b5a8f07-f8ae-4698-9509-275573fdeee2"
      },
      "execution_count": null,
      "outputs": [
        {
          "output_type": "stream",
          "name": "stdout",
          "text": [
            "+-------------------------------------------------------------------------------------------------------------------------------------------------------------------------------------------------------------------------------------------------------------------------------------------------------------------------------------+\n",
            "|tokens                                                                                                                                                                                                                                                                                                                               |\n",
            "+-------------------------------------------------------------------------------------------------------------------------------------------------------------------------------------------------------------------------------------------------------------------------------------------------------------------------------------+\n",
            "|[success, come, quicker, find, follow, wise, teachernow, 11, cents, share,, read, $rxmd, best, stock, investment, 2018https://askwarrenbuffet.blogspot.com/2018/02/the-best-investment-for-2018-is.html…$spy, $aapl, $amzn, $fb, $msft, $ahix$twtr, $goog, $andi, $tsla, $nvda, $dsgt$rsii, $ipix, $fusz, $biel, $libe, $potn, $rnva]|\n",
            "|[success, come, quicker, find, follow, wise, teachernow, 11, cents, share,, read, $rxmd, best, stock, investment, 2018https://askwarrenbuffet.blogspot.com/2018/02/the-best-investment-for-2018-is.html…$spy, $aapl, $amzn, $fb, $msft, $ahix$twtr, $goog, $andi, $tsla, $nvda, $dsgt$rsii, $ipix, $fusz, $biel, $libe, $potn, $rnva]|\n",
            "|[success, come, quicker, find, follow, wise, teachernow, 11, cents, share,, read, $rxmd, best, stock, investment, 2018https://askwarrenbuffet.blogspot.com/2018/02/the-best-investment-for-2018-is.html…$spy, $aapl, $amzn, $fb, $msft, $ahix$twtr, $goog, $andi, $tsla, $nvda, $dsgt$rsii, $ipix, $fusz, $biel, $libe, $potn, $rnva]|\n",
            "|[success, come, quicker, find, follow, wise, teachernow, 11, cents, share,, read, $rxmd, best, stock, investment, 2018https://askwarrenbuffet.blogspot.com/2018/02/the-best-investment-for-2018-is.html…$spy, $aapl, $amzn, $fb, $msft, $ahix$twtr, $goog, $andi, $tsla, $nvda, $dsgt$rsii, $ipix, $fusz, $biel, $libe, $potn, $rnva]|\n",
            "|[offering, 7, day, free, trial, options, day, trading, team, room, $twtr, feed, http://ow.ly/unjd30jqogy$pcln, $aapl, $nflx, $tsla, $amzn, $googl]                                                                                                                                                                                   |\n",
            "+-------------------------------------------------------------------------------------------------------------------------------------------------------------------------------------------------------------------------------------------------------------------------------------------------------------------------------------+\n",
            "only showing top 5 rows\n",
            "\n"
          ]
        }
      ]
    },
    {
      "cell_type": "code",
      "source": [
        "from pyspark.ml.feature import StopWordsRemover\n",
        "remover = StopWordsRemover(inputCol=\"tokens\", outputCol=\"filtered_tokens\")\n",
        "\n",
        "df = remover.transform(df)\n",
        "df.select(\"tokens\", \"filtered_tokens\").show(5, truncate=False)"
      ],
      "metadata": {
        "colab": {
          "base_uri": "https://localhost:8080/"
        },
        "id": "XlBeoZxchPlL",
        "outputId": "e8e8bbc4-5291-4886-9bab-6b3b92df7e70"
      },
      "execution_count": null,
      "outputs": [
        {
          "output_type": "stream",
          "name": "stdout",
          "text": [
            "+-------------------------------------------------------------------------------------------------------------------------------------------------------------------------------------------------------------------------------------------------------------------------------------------------------------------------------------+-------------------------------------------------------------------------------------------------------------------------------------------------------------------------------------------------------------------------------------------------------------------------------------------------------------------------------------+\n",
            "|tokens                                                                                                                                                                                                                                                                                                                               |filtered_tokens                                                                                                                                                                                                                                                                                                                      |\n",
            "+-------------------------------------------------------------------------------------------------------------------------------------------------------------------------------------------------------------------------------------------------------------------------------------------------------------------------------------+-------------------------------------------------------------------------------------------------------------------------------------------------------------------------------------------------------------------------------------------------------------------------------------------------------------------------------------+\n",
            "|[success, come, quicker, find, follow, wise, teachernow, 11, cents, share,, read, $rxmd, best, stock, investment, 2018https://askwarrenbuffet.blogspot.com/2018/02/the-best-investment-for-2018-is.html…$spy, $aapl, $amzn, $fb, $msft, $ahix$twtr, $goog, $andi, $tsla, $nvda, $dsgt$rsii, $ipix, $fusz, $biel, $libe, $potn, $rnva]|[success, come, quicker, find, follow, wise, teachernow, 11, cents, share,, read, $rxmd, best, stock, investment, 2018https://askwarrenbuffet.blogspot.com/2018/02/the-best-investment-for-2018-is.html…$spy, $aapl, $amzn, $fb, $msft, $ahix$twtr, $goog, $andi, $tsla, $nvda, $dsgt$rsii, $ipix, $fusz, $biel, $libe, $potn, $rnva]|\n",
            "|[success, come, quicker, find, follow, wise, teachernow, 11, cents, share,, read, $rxmd, best, stock, investment, 2018https://askwarrenbuffet.blogspot.com/2018/02/the-best-investment-for-2018-is.html…$spy, $aapl, $amzn, $fb, $msft, $ahix$twtr, $goog, $andi, $tsla, $nvda, $dsgt$rsii, $ipix, $fusz, $biel, $libe, $potn, $rnva]|[success, come, quicker, find, follow, wise, teachernow, 11, cents, share,, read, $rxmd, best, stock, investment, 2018https://askwarrenbuffet.blogspot.com/2018/02/the-best-investment-for-2018-is.html…$spy, $aapl, $amzn, $fb, $msft, $ahix$twtr, $goog, $andi, $tsla, $nvda, $dsgt$rsii, $ipix, $fusz, $biel, $libe, $potn, $rnva]|\n",
            "|[success, come, quicker, find, follow, wise, teachernow, 11, cents, share,, read, $rxmd, best, stock, investment, 2018https://askwarrenbuffet.blogspot.com/2018/02/the-best-investment-for-2018-is.html…$spy, $aapl, $amzn, $fb, $msft, $ahix$twtr, $goog, $andi, $tsla, $nvda, $dsgt$rsii, $ipix, $fusz, $biel, $libe, $potn, $rnva]|[success, come, quicker, find, follow, wise, teachernow, 11, cents, share,, read, $rxmd, best, stock, investment, 2018https://askwarrenbuffet.blogspot.com/2018/02/the-best-investment-for-2018-is.html…$spy, $aapl, $amzn, $fb, $msft, $ahix$twtr, $goog, $andi, $tsla, $nvda, $dsgt$rsii, $ipix, $fusz, $biel, $libe, $potn, $rnva]|\n",
            "|[success, come, quicker, find, follow, wise, teachernow, 11, cents, share,, read, $rxmd, best, stock, investment, 2018https://askwarrenbuffet.blogspot.com/2018/02/the-best-investment-for-2018-is.html…$spy, $aapl, $amzn, $fb, $msft, $ahix$twtr, $goog, $andi, $tsla, $nvda, $dsgt$rsii, $ipix, $fusz, $biel, $libe, $potn, $rnva]|[success, come, quicker, find, follow, wise, teachernow, 11, cents, share,, read, $rxmd, best, stock, investment, 2018https://askwarrenbuffet.blogspot.com/2018/02/the-best-investment-for-2018-is.html…$spy, $aapl, $amzn, $fb, $msft, $ahix$twtr, $goog, $andi, $tsla, $nvda, $dsgt$rsii, $ipix, $fusz, $biel, $libe, $potn, $rnva]|\n",
            "|[offering, 7, day, free, trial, options, day, trading, team, room, $twtr, feed, http://ow.ly/unjd30jqogy$pcln, $aapl, $nflx, $tsla, $amzn, $googl]                                                                                                                                                                                   |[offering, 7, day, free, trial, options, day, trading, team, room, $twtr, feed, http://ow.ly/unjd30jqogy$pcln, $aapl, $nflx, $tsla, $amzn, $googl]                                                                                                                                                                                   |\n",
            "+-------------------------------------------------------------------------------------------------------------------------------------------------------------------------------------------------------------------------------------------------------------------------------------------------------------------------------------+-------------------------------------------------------------------------------------------------------------------------------------------------------------------------------------------------------------------------------------------------------------------------------------------------------------------------------------+\n",
            "only showing top 5 rows\n",
            "\n"
          ]
        }
      ]
    },
    {
      "cell_type": "code",
      "source": [
        "from pyspark.ml.feature import Word2Vec\n",
        "\n",
        "word2Vec = Word2Vec(vectorSize=100, minCount=0, inputCol=\"filtered_tokens\", outputCol=\"word2vec_features\")\n",
        "\n",
        "model = word2Vec.fit(df)\n",
        "df = model.transform(df)\n",
        "\n",
        "df.select(\"filtered_tokens\", \"word2vec_features\").show(5, truncate=False)"
      ],
      "metadata": {
        "colab": {
          "base_uri": "https://localhost:8080/"
        },
        "id": "AtSdi1T-iBHu",
        "outputId": "3a3c07c3-2251-4fef-e576-ed9273f468ba"
      },
      "execution_count": null,
      "outputs": [
        {
          "output_type": "stream",
          "name": "stdout",
          "text": [
            "+-------------------------------------------------------------------------------------------------------------------------------------------------------------------------------------------------------------------------------------------------------------------------------------------------------------------------------------+------------------------------------------------------------------------------------------------------------------------------------------------------------------------------------------------------------------------------------------------------------------------------------------------------------------------------------------------------------------------------------------------------------------------------------------------------------------------------------------------------------------------------------------------------------------------------------------------------------------------------------------------------------------------------------------------------------------------------------------------------------------------------------------------------------------------------------------------------------------------------------------------------------------------------------------------------------------------------------------------------------------------------------------------------------------------------------------------------------------------------------------------------------------------------------------------------------------------------------------------------------------------------------------------------------------------------------------------------------------------------------------------------------------------------------------------------------------------------------------------------------------------------------------------------------------------------------------------------------------------------------------------------------------------------------------------------------------------------------------------------------------------------------------------------------------------------------------------------------------------------------------------------------------------------------------------------------------------------------------------------------------------------------------------------------------------------------------------------------------------------------------------------+\n",
            "|filtered_tokens                                                                                                                                                                                                                                                                                                                      |word2vec_features                                                                                                                                                                                                                                                                                                                                                                                                                                                                                                                                                                                                                                                                                                                                                                                                                                                                                                                                                                                                                                                                                                                                                                                                                                                                                                                                                                                                                                                                                                                                                                                                                                                                                                                                                                                                                                                                                                                                                                                                                                                                                                                                     |\n",
            "+-------------------------------------------------------------------------------------------------------------------------------------------------------------------------------------------------------------------------------------------------------------------------------------------------------------------------------------+------------------------------------------------------------------------------------------------------------------------------------------------------------------------------------------------------------------------------------------------------------------------------------------------------------------------------------------------------------------------------------------------------------------------------------------------------------------------------------------------------------------------------------------------------------------------------------------------------------------------------------------------------------------------------------------------------------------------------------------------------------------------------------------------------------------------------------------------------------------------------------------------------------------------------------------------------------------------------------------------------------------------------------------------------------------------------------------------------------------------------------------------------------------------------------------------------------------------------------------------------------------------------------------------------------------------------------------------------------------------------------------------------------------------------------------------------------------------------------------------------------------------------------------------------------------------------------------------------------------------------------------------------------------------------------------------------------------------------------------------------------------------------------------------------------------------------------------------------------------------------------------------------------------------------------------------------------------------------------------------------------------------------------------------------------------------------------------------------------------------------------------------------+\n",
            "|[success, come, quicker, find, follow, wise, teachernow, 11, cents, share,, read, $rxmd, best, stock, investment, 2018https://askwarrenbuffet.blogspot.com/2018/02/the-best-investment-for-2018-is.html…$spy, $aapl, $amzn, $fb, $msft, $ahix$twtr, $goog, $andi, $tsla, $nvda, $dsgt$rsii, $ipix, $fusz, $biel, $libe, $potn, $rnva]|[0.160093400911137,0.17898374048127152,-0.025118473802649532,-0.014085849885304924,0.028148423389666277,-0.20733628088783007,0.14897193096066985,0.05865112956962548,-0.11052258934796555,0.019599056329752784,0.06277329047316016,0.02278856632665338,-0.14515120365467737,-0.05814076244132593,0.09933408487904671,0.04895888031933282,-0.011098733681137674,-0.05012249405217517,-0.17524574047820352,-0.072155692265369,0.053074878469487885,-0.16903059059768566,-0.08940888659162738,0.10595360281331523,0.10149146474941517,-0.03276868534157984,-0.062480933804181404,-0.02708861662176787,0.007170376377871435,-0.12251166076021036,0.0863049410795611,-0.006403472090823925,0.13667532621457212,0.019365657156413363,0.01852211852428809,-0.14304085033290903,-0.16957582808936422,0.03298762722624815,0.16792245847682352,0.0021759906300644616,0.1571076401451137,0.06284652769136301,0.016979607215034775,-0.0013896393502363935,-0.1700263249276759,-0.0723745871164283,-0.014715177265316015,0.07079557465476682,0.0021308447066985536,0.07624354306608438,0.1930098443335737,-0.15553608052687196,-0.1353306395249092,-0.1416406020289287,0.09187306760213687,0.12976566146244295,0.09462541099856026,-0.09211278218936059,-0.09370951847085962,0.02180979214972467,0.041444569869781844,-0.0010259287373628467,0.03203786595258862,-0.04553386878251331,-0.0028236785692570265,-0.24555359500664053,-0.1422896323929308,-0.09121145830431487,0.02407090915221488,0.14670443395880284,0.02362066109526495,0.023274482366105076,0.1358988798901919,-0.009205331611155998,0.028276921915676212,-0.10531367158182547,0.03033157004028908,0.007922933354166162,-0.10545500991247536,0.07762934132688315,-0.07354318636134849,-0.06262942235480295,-0.016048209477958153,0.053132068813283695,0.013414426139206626,0.007934947905596346,-0.10502753613036475,0.004172232707787771,-0.1364853003560711,-0.01891230739920502,0.029177766504290048,0.27408928199747606,-0.08586064738119603,0.04890143071179409,-0.20458730579139228,0.08616296681611857,0.04598079717470682,-0.008959440037870081,-0.12817748236557236,-0.059057069331970524]|\n",
            "|[success, come, quicker, find, follow, wise, teachernow, 11, cents, share,, read, $rxmd, best, stock, investment, 2018https://askwarrenbuffet.blogspot.com/2018/02/the-best-investment-for-2018-is.html…$spy, $aapl, $amzn, $fb, $msft, $ahix$twtr, $goog, $andi, $tsla, $nvda, $dsgt$rsii, $ipix, $fusz, $biel, $libe, $potn, $rnva]|[0.160093400911137,0.17898374048127152,-0.025118473802649532,-0.014085849885304924,0.028148423389666277,-0.20733628088783007,0.14897193096066985,0.05865112956962548,-0.11052258934796555,0.019599056329752784,0.06277329047316016,0.02278856632665338,-0.14515120365467737,-0.05814076244132593,0.09933408487904671,0.04895888031933282,-0.011098733681137674,-0.05012249405217517,-0.17524574047820352,-0.072155692265369,0.053074878469487885,-0.16903059059768566,-0.08940888659162738,0.10595360281331523,0.10149146474941517,-0.03276868534157984,-0.062480933804181404,-0.02708861662176787,0.007170376377871435,-0.12251166076021036,0.0863049410795611,-0.006403472090823925,0.13667532621457212,0.019365657156413363,0.01852211852428809,-0.14304085033290903,-0.16957582808936422,0.03298762722624815,0.16792245847682352,0.0021759906300644616,0.1571076401451137,0.06284652769136301,0.016979607215034775,-0.0013896393502363935,-0.1700263249276759,-0.0723745871164283,-0.014715177265316015,0.07079557465476682,0.0021308447066985536,0.07624354306608438,0.1930098443335737,-0.15553608052687196,-0.1353306395249092,-0.1416406020289287,0.09187306760213687,0.12976566146244295,0.09462541099856026,-0.09211278218936059,-0.09370951847085962,0.02180979214972467,0.041444569869781844,-0.0010259287373628467,0.03203786595258862,-0.04553386878251331,-0.0028236785692570265,-0.24555359500664053,-0.1422896323929308,-0.09121145830431487,0.02407090915221488,0.14670443395880284,0.02362066109526495,0.023274482366105076,0.1358988798901919,-0.009205331611155998,0.028276921915676212,-0.10531367158182547,0.03033157004028908,0.007922933354166162,-0.10545500991247536,0.07762934132688315,-0.07354318636134849,-0.06262942235480295,-0.016048209477958153,0.053132068813283695,0.013414426139206626,0.007934947905596346,-0.10502753613036475,0.004172232707787771,-0.1364853003560711,-0.01891230739920502,0.029177766504290048,0.27408928199747606,-0.08586064738119603,0.04890143071179409,-0.20458730579139228,0.08616296681611857,0.04598079717470682,-0.008959440037870081,-0.12817748236557236,-0.059057069331970524]|\n",
            "|[success, come, quicker, find, follow, wise, teachernow, 11, cents, share,, read, $rxmd, best, stock, investment, 2018https://askwarrenbuffet.blogspot.com/2018/02/the-best-investment-for-2018-is.html…$spy, $aapl, $amzn, $fb, $msft, $ahix$twtr, $goog, $andi, $tsla, $nvda, $dsgt$rsii, $ipix, $fusz, $biel, $libe, $potn, $rnva]|[0.160093400911137,0.17898374048127152,-0.025118473802649532,-0.014085849885304924,0.028148423389666277,-0.20733628088783007,0.14897193096066985,0.05865112956962548,-0.11052258934796555,0.019599056329752784,0.06277329047316016,0.02278856632665338,-0.14515120365467737,-0.05814076244132593,0.09933408487904671,0.04895888031933282,-0.011098733681137674,-0.05012249405217517,-0.17524574047820352,-0.072155692265369,0.053074878469487885,-0.16903059059768566,-0.08940888659162738,0.10595360281331523,0.10149146474941517,-0.03276868534157984,-0.062480933804181404,-0.02708861662176787,0.007170376377871435,-0.12251166076021036,0.0863049410795611,-0.006403472090823925,0.13667532621457212,0.019365657156413363,0.01852211852428809,-0.14304085033290903,-0.16957582808936422,0.03298762722624815,0.16792245847682352,0.0021759906300644616,0.1571076401451137,0.06284652769136301,0.016979607215034775,-0.0013896393502363935,-0.1700263249276759,-0.0723745871164283,-0.014715177265316015,0.07079557465476682,0.0021308447066985536,0.07624354306608438,0.1930098443335737,-0.15553608052687196,-0.1353306395249092,-0.1416406020289287,0.09187306760213687,0.12976566146244295,0.09462541099856026,-0.09211278218936059,-0.09370951847085962,0.02180979214972467,0.041444569869781844,-0.0010259287373628467,0.03203786595258862,-0.04553386878251331,-0.0028236785692570265,-0.24555359500664053,-0.1422896323929308,-0.09121145830431487,0.02407090915221488,0.14670443395880284,0.02362066109526495,0.023274482366105076,0.1358988798901919,-0.009205331611155998,0.028276921915676212,-0.10531367158182547,0.03033157004028908,0.007922933354166162,-0.10545500991247536,0.07762934132688315,-0.07354318636134849,-0.06262942235480295,-0.016048209477958153,0.053132068813283695,0.013414426139206626,0.007934947905596346,-0.10502753613036475,0.004172232707787771,-0.1364853003560711,-0.01891230739920502,0.029177766504290048,0.27408928199747606,-0.08586064738119603,0.04890143071179409,-0.20458730579139228,0.08616296681611857,0.04598079717470682,-0.008959440037870081,-0.12817748236557236,-0.059057069331970524]|\n",
            "|[success, come, quicker, find, follow, wise, teachernow, 11, cents, share,, read, $rxmd, best, stock, investment, 2018https://askwarrenbuffet.blogspot.com/2018/02/the-best-investment-for-2018-is.html…$spy, $aapl, $amzn, $fb, $msft, $ahix$twtr, $goog, $andi, $tsla, $nvda, $dsgt$rsii, $ipix, $fusz, $biel, $libe, $potn, $rnva]|[0.160093400911137,0.17898374048127152,-0.025118473802649532,-0.014085849885304924,0.028148423389666277,-0.20733628088783007,0.14897193096066985,0.05865112956962548,-0.11052258934796555,0.019599056329752784,0.06277329047316016,0.02278856632665338,-0.14515120365467737,-0.05814076244132593,0.09933408487904671,0.04895888031933282,-0.011098733681137674,-0.05012249405217517,-0.17524574047820352,-0.072155692265369,0.053074878469487885,-0.16903059059768566,-0.08940888659162738,0.10595360281331523,0.10149146474941517,-0.03276868534157984,-0.062480933804181404,-0.02708861662176787,0.007170376377871435,-0.12251166076021036,0.0863049410795611,-0.006403472090823925,0.13667532621457212,0.019365657156413363,0.01852211852428809,-0.14304085033290903,-0.16957582808936422,0.03298762722624815,0.16792245847682352,0.0021759906300644616,0.1571076401451137,0.06284652769136301,0.016979607215034775,-0.0013896393502363935,-0.1700263249276759,-0.0723745871164283,-0.014715177265316015,0.07079557465476682,0.0021308447066985536,0.07624354306608438,0.1930098443335737,-0.15553608052687196,-0.1353306395249092,-0.1416406020289287,0.09187306760213687,0.12976566146244295,0.09462541099856026,-0.09211278218936059,-0.09370951847085962,0.02180979214972467,0.041444569869781844,-0.0010259287373628467,0.03203786595258862,-0.04553386878251331,-0.0028236785692570265,-0.24555359500664053,-0.1422896323929308,-0.09121145830431487,0.02407090915221488,0.14670443395880284,0.02362066109526495,0.023274482366105076,0.1358988798901919,-0.009205331611155998,0.028276921915676212,-0.10531367158182547,0.03033157004028908,0.007922933354166162,-0.10545500991247536,0.07762934132688315,-0.07354318636134849,-0.06262942235480295,-0.016048209477958153,0.053132068813283695,0.013414426139206626,0.007934947905596346,-0.10502753613036475,0.004172232707787771,-0.1364853003560711,-0.01891230739920502,0.029177766504290048,0.27408928199747606,-0.08586064738119603,0.04890143071179409,-0.20458730579139228,0.08616296681611857,0.04598079717470682,-0.008959440037870081,-0.12817748236557236,-0.059057069331970524]|\n",
            "|[offering, 7, day, free, trial, options, day, trading, team, room, $twtr, feed, http://ow.ly/unjd30jqogy$pcln, $aapl, $nflx, $tsla, $amzn, $googl]                                                                                                                                                                                   |[-0.09018555931591739,0.1165256136122884,-0.1353805031782637,0.12094736326899792,-0.002450884827542015,0.2975109726604488,0.04925763028829048,0.09210295529434612,-0.08366284916539572,0.17064412487929478,0.0930303504380087,0.040555211999971,0.05165832070633769,0.06796544365998772,-0.023450738220061693,0.006541184867577006,-0.059767171472129926,-0.16420154457187486,-0.07937180194615696,0.11556160292174253,0.22503155925207666,0.017511597938007776,-0.13791150871353844,-0.190751589433704,-0.0896987117594108,-0.07409473521531455,-0.089622012022624,-0.08799465687479824,-0.04366828298144456,-0.05328769433415598,0.004793239498717917,-0.15650874860067335,0.06838157224572367,0.08604536860042976,-0.19919208717894635,-0.1652983876540222,-0.17439296317105699,-0.09902825482034434,0.018042109363401927,-0.2563684137486335,-0.015743723708308406,0.05271219982144733,0.12174115003371197,0.025295893791028194,-0.06029642200964089,0.10313596590034042,-0.14650259005268,-0.0032844575535919927,-0.01662649622368109,0.11808886740861149,0.05760707072396245,0.015056647463805145,-0.19867624523693747,-0.015064916519299407,0.17996937348895395,-0.06179768987931311,-9.712649302350149E-5,0.21242776145744655,-0.14388487381964093,-0.0545529678541546,-0.10798124016986953,0.03966966920739246,-0.09207910360095815,-0.09775775099276668,0.2519000429504861,-0.13405759908103693,-0.12888246989395055,-0.15617047856924018,-0.00169360536771516,0.15903592872847286,-0.018310744806917176,-0.20685051636408186,-0.09861425164207402,-0.15730624265658358,-0.03804518776531848,-0.13280628228353128,-0.13476104901767233,-0.044858110007933445,-0.157424819191672,0.008696643376929892,0.01959721909628974,0.002782422509173759,0.02482280848521946,0.06143127768559174,0.005380081691934416,-0.05364147172723379,0.16798405776110786,-0.011072369253573317,0.036063734364385404,-0.18390336668461613,-0.21647006275533284,0.07266743664836718,0.022312067814507622,-0.020264139537984092,-0.045710700025665574,0.194415575126186,0.027420448281595275,0.19168438386016834,-0.19502862956788802,-0.07890687840214619]         |\n",
            "+-------------------------------------------------------------------------------------------------------------------------------------------------------------------------------------------------------------------------------------------------------------------------------------------------------------------------------------+------------------------------------------------------------------------------------------------------------------------------------------------------------------------------------------------------------------------------------------------------------------------------------------------------------------------------------------------------------------------------------------------------------------------------------------------------------------------------------------------------------------------------------------------------------------------------------------------------------------------------------------------------------------------------------------------------------------------------------------------------------------------------------------------------------------------------------------------------------------------------------------------------------------------------------------------------------------------------------------------------------------------------------------------------------------------------------------------------------------------------------------------------------------------------------------------------------------------------------------------------------------------------------------------------------------------------------------------------------------------------------------------------------------------------------------------------------------------------------------------------------------------------------------------------------------------------------------------------------------------------------------------------------------------------------------------------------------------------------------------------------------------------------------------------------------------------------------------------------------------------------------------------------------------------------------------------------------------------------------------------------------------------------------------------------------------------------------------------------------------------------------------------+\n",
            "only showing top 5 rows\n",
            "\n"
          ]
        }
      ]
    },
    {
      "cell_type": "code",
      "source": [
        "from pyspark.ml.feature import StringIndexer\n",
        "\n",
        "string_indexer = StringIndexer(inputCol=\"sentiment\", outputCol=\"label\")\n",
        "\n",
        "string_indexer_model = string_indexer.fit(df)\n",
        "df = string_indexer_model.transform(df)\n",
        "\n",
        "df.select(\"sentiment\", \"label\").show(5)\n"
      ],
      "metadata": {
        "colab": {
          "base_uri": "https://localhost:8080/"
        },
        "id": "ppCcNK2BiEDE",
        "outputId": "7b91e833-0959-4459-8d06-3ed29966ba16"
      },
      "execution_count": null,
      "outputs": [
        {
          "output_type": "stream",
          "name": "stdout",
          "text": [
            "+---------+-----+\n",
            "|Sentiment|label|\n",
            "+---------+-----+\n",
            "| positive|  1.0|\n",
            "| positive|  1.0|\n",
            "| positive|  1.0|\n",
            "| positive|  1.0|\n",
            "| positive|  1.0|\n",
            "+---------+-----+\n",
            "only showing top 5 rows\n",
            "\n"
          ]
        }
      ]
    },
    {
      "cell_type": "code",
      "source": [
        "df.show(5)\n",
        "df.printSchema()"
      ],
      "metadata": {
        "colab": {
          "base_uri": "https://localhost:8080/"
        },
        "id": "nDJyiGQljxBM",
        "outputId": "f11a520e-e14d-4bd1-fc9c-38cf9b103d49"
      },
      "execution_count": null,
      "outputs": [
        {
          "output_type": "stream",
          "name": "stdout",
          "text": [
            "+---+------------------+---------------+----------+--------------------+-------------------+-------------------+----------------+-------------+--------------------+---------+--------------------+--------------------+--------------------+-----+\n",
            "|_c0|          tweet_id|         writer| post_date|                body|comment_num_numeric|retweet_num_numeric|like_num_numeric|ticker_symbol|        cleaned_body|sentiment|              tokens|     filtered_tokens|   word2vec_features|label|\n",
            "+---+------------------+---------------+----------+--------------------+-------------------+-------------------+----------------+-------------+--------------------+---------+--------------------+--------------------+--------------------+-----+\n",
            "|  0|984085642253668352|askwarrenbuffet|1523459275|Your success will...|                  0|               NULL|            NULL|         GOOG|success come quic...| positive|[success, come, q...|[success, come, q...|[0.16009340091113...|  1.0|\n",
            "|  1|984085642253668352|askwarrenbuffet|1523459275|Your success will...|                  0|               NULL|            NULL|         AMZN|success come quic...| positive|[success, come, q...|[success, come, q...|[0.16009340091113...|  1.0|\n",
            "|  2|984085642253668352|askwarrenbuffet|1523459275|Your success will...|                  0|               NULL|            NULL|         MSFT|success come quic...| positive|[success, come, q...|[success, come, q...|[0.16009340091113...|  1.0|\n",
            "|  3|984085642253668352|askwarrenbuffet|1523459275|Your success will...|                  0|               NULL|            NULL|         TSLA|success come quic...| positive|[success, come, q...|[success, come, q...|[0.16009340091113...|  1.0|\n",
            "|  4|984087464640905216|     OACtrading|1523459709|NOW OFFERING 7 Da...|                  0|               NULL|            NULL|         AAPL|OFFERING 7 Day FR...| positive|[offering, 7, day...|[offering, 7, day...|[-0.0901855593159...|  1.0|\n",
            "+---+------------------+---------------+----------+--------------------+-------------------+-------------------+----------------+-------------+--------------------+---------+--------------------+--------------------+--------------------+-----+\n",
            "only showing top 5 rows\n",
            "\n",
            "root\n",
            " |-- _c0: integer (nullable = true)\n",
            " |-- tweet_id: string (nullable = true)\n",
            " |-- writer: string (nullable = true)\n",
            " |-- post_date: string (nullable = true)\n",
            " |-- body: string (nullable = true)\n",
            " |-- comment_num_numeric: integer (nullable = true)\n",
            " |-- retweet_num_numeric: integer (nullable = true)\n",
            " |-- like_num_numeric: integer (nullable = true)\n",
            " |-- ticker_symbol: string (nullable = true)\n",
            " |-- cleaned_body: string (nullable = true)\n",
            " |-- sentiment: string (nullable = true)\n",
            " |-- tokens: array (nullable = true)\n",
            " |    |-- element: string (containsNull = true)\n",
            " |-- filtered_tokens: array (nullable = true)\n",
            " |    |-- element: string (containsNull = true)\n",
            " |-- word2vec_features: vector (nullable = true)\n",
            " |-- label: double (nullable = false)\n",
            "\n"
          ]
        }
      ]
    },
    {
      "cell_type": "code",
      "source": [
        "# set seed for reproducibility\n",
        "(trainingData, testData) = df.randomSplit([0.7, 0.3], seed = 100)\n",
        "print(\"Training Dataset Count: \" + str(trainingData.count()))\n",
        "print(\"Test Dataset Count: \" + str(testData.count()))"
      ],
      "metadata": {
        "colab": {
          "base_uri": "https://localhost:8080/"
        },
        "id": "8gd_8pDYkhuU",
        "outputId": "66c7b62c-bc08-4159-8f95-37ae829a84c8"
      },
      "execution_count": null,
      "outputs": [
        {
          "output_type": "stream",
          "name": "stdout",
          "text": [
            "Training Dataset Count: 279834\n",
            "Test Dataset Count: 120166\n"
          ]
        }
      ]
    },
    {
      "cell_type": "code",
      "source": [
        "#!pip install pyspark\n",
        "from pyspark.sql import SparkSession\n",
        "from pyspark.sql.functions import col\n",
        "\n",
        "# Start Spark session\n",
        "spark = SparkSession.builder.appName(\"SentimentFrequency\").getOrCreate()\n",
        "\n",
        "# Load the dataset with header and schema inference\n",
        "file_path = \"/content/drive/MyDrive/Courses/Sem 2/Big data /dataset_4L.csv\"  # Replace with the actual path to your file\n",
        "df = spark.read.option(\"header\", \"true\").option(\"inferSchema\", \"true\").csv(file_path)\n",
        "\n",
        "# Show the schema and the first few rows\n",
        "df.printSchema()\n",
        "df.show(5)\n",
        "\n",
        "# Calculate the frequency of each class in the 'sentiment' column\n",
        "class_frequency = df.groupBy(\"sentiment\").count().orderBy(\"count\", ascending=False)\n",
        "class_frequency.show()\n",
        "\n",
        "# Stop the Spark session\n",
        "spark.stop()\n"
      ],
      "metadata": {
        "colab": {
          "base_uri": "https://localhost:8080/"
        },
        "id": "w62mJSTy3hhz",
        "outputId": "9d454893-b0e8-4256-f050-3945518d4edc"
      },
      "execution_count": 5,
      "outputs": [
        {
          "output_type": "stream",
          "name": "stdout",
          "text": [
            "root\n",
            " |-- _c0: integer (nullable = true)\n",
            " |-- tweet_id: long (nullable = true)\n",
            " |-- writer: string (nullable = true)\n",
            " |-- post_date: integer (nullable = true)\n",
            " |-- body: string (nullable = true)\n",
            " |-- comment_num_numeric: string (nullable = true)\n",
            " |-- retweet_num_numeric: string (nullable = true)\n",
            " |-- like_num_numeric: string (nullable = true)\n",
            " |-- ticker_symbol: string (nullable = true)\n",
            " |-- cleaned_body: string (nullable = true)\n",
            " |-- sentiment: string (nullable = true)\n",
            "\n",
            "+---+------------------+---------------+----------+--------------------+-------------------+-------------------+----------------+-------------+--------------------+---------+\n",
            "|_c0|          tweet_id|         writer| post_date|                body|comment_num_numeric|retweet_num_numeric|like_num_numeric|ticker_symbol|        cleaned_body|sentiment|\n",
            "+---+------------------+---------------+----------+--------------------+-------------------+-------------------+----------------+-------------+--------------------+---------+\n",
            "|  0|984085642253668352|askwarrenbuffet|1523459275|Your success will...|                  0|                1.0|             2.0|         GOOG|success come quic...| positive|\n",
            "|  1|984085642253668352|askwarrenbuffet|1523459275|Your success will...|                  0|                1.0|             2.0|         AMZN|success come quic...| positive|\n",
            "|  2|984085642253668352|askwarrenbuffet|1523459275|Your success will...|                  0|                1.0|             2.0|         MSFT|success come quic...| positive|\n",
            "|  3|984085642253668352|askwarrenbuffet|1523459275|Your success will...|                  0|                1.0|             2.0|         TSLA|success come quic...| positive|\n",
            "|  4|984087464640905216|     OACtrading|1523459709|NOW OFFERING 7 Da...|                  0|                0.0|             0.0|         AAPL|OFFERING 7 Day FR...| positive|\n",
            "+---+------------------+---------------+----------+--------------------+-------------------+-------------------+----------------+-------------+--------------------+---------+\n",
            "only showing top 5 rows\n",
            "\n",
            "+---------+------+\n",
            "|sentiment| count|\n",
            "+---------+------+\n",
            "|  neutral|181034|\n",
            "| positive|153728|\n",
            "| negative| 65238|\n",
            "+---------+------+\n",
            "\n"
          ]
        }
      ]
    },
    {
      "cell_type": "markdown",
      "source": [
        "#### Logistic Regression"
      ],
      "metadata": {
        "id": "r992ZdiHmn2T"
      }
    },
    {
      "cell_type": "code",
      "source": [
        "from pyspark.ml.evaluation import MulticlassClassificationEvaluator\n",
        "from pyspark.mllib.evaluation import MulticlassMetrics\n",
        "\n",
        "# Split the data into train and test sets\n",
        "(trainingData, testData) = df.randomSplit([0.8, 0.2], seed=100)\n",
        "\n",
        "# Initialize Logistic Regression model\n",
        "lr = LogisticRegression(labelCol=\"label\", featuresCol=\"word2vec_features\")\n",
        "\n",
        "# Fit Logistic Regression model to the training dataset\n",
        "model = lr.fit(trainingData)\n",
        "\n",
        "# Make predictions on the test dataset\n",
        "predictions = model.transform(testData)\n",
        "\n",
        "# Evaluate the model performance using MulticlassClassificationEvaluator\n",
        "evaluator = MulticlassClassificationEvaluator(labelCol=\"label\", predictionCol=\"prediction\", metricName=\"accuracy\")\n",
        "accuracy = evaluator.evaluate(predictions)\n",
        "\n",
        "# Convert DataFrame to RDD for using MulticlassMetrics\n",
        "prediction_and_label = predictions.select(\"prediction\", \"label\").rdd\n",
        "\n",
        "# Instantiate metrics object\n",
        "metrics = MulticlassMetrics(prediction_and_label)\n",
        "\n",
        "labels = [0.0, 1.0, 2.0]\n",
        "\n",
        "# Overall statistics\n",
        "print(\"\\nSummary Stats\")\n",
        "for label in labels:\n",
        "    print(\"Precision for {} = {:.2f}\".format(label, metrics.precision(label)))\n",
        "    print(\"Recall for {} = {:.2f}\".format(label, metrics.recall(label)))\n",
        "    print(\"F1 Score for {} = {:.2f}\".format(label, metrics.fMeasure(label)))\n",
        "\n",
        "# Accuracy\n",
        "print(\"LogisticRegression Accuracy = {:.2f}\".format(metrics.accuracy))\n",
        "\n",
        "# Confusion matrix\n",
        "print(\"\\nConfusion Matrix\")\n",
        "print(metrics.confusionMatrix().toArray())\n",
        "\n",
        "# Calculate precision, recall, and F1-score for each class\n",
        "class_metrics = []\n",
        "\n",
        "for label in labels:\n",
        "    precision = metrics.precision(label)\n",
        "    recall = metrics.recall(label)\n",
        "    f1_score = metrics.fMeasure(label)\n",
        "\n",
        "    # Calculate support for each class\n",
        "    support = testData.filter(testData.label == label).count()\n",
        "\n",
        "    class_metrics.append((label, precision, recall, f1_score, support))\n",
        "\n",
        "# Print classification report\n",
        "print(\"\\n{:>10} {:>10} {:>10} {:>10} {:>10}\".format(\"Class\", \"Precision\", \"Recall\", \"F1-score\", \"Support\"))\n",
        "for label, precision, recall, f1_score, support in class_metrics:\n",
        "    print(\"{:>10} {:>10.2f} {:>10.2f} {:>10.2f} {:>10.0f}\".format(label, precision, recall, f1_score, support))\n"
      ],
      "metadata": {
        "colab": {
          "base_uri": "https://localhost:8080/"
        },
        "id": "PP7uKsQ5lF06",
        "outputId": "554de779-da9b-408a-ebae-50ff6e0bcb55"
      },
      "execution_count": null,
      "outputs": [
        {
          "output_type": "stream",
          "name": "stderr",
          "text": [
            "/usr/local/lib/python3.10/dist-packages/pyspark/sql/context.py:158: FutureWarning: Deprecated in 3.0.0. Use SparkSession.builder.getOrCreate() instead.\n",
            "  warnings.warn(\n"
          ]
        },
        {
          "output_type": "stream",
          "name": "stdout",
          "text": [
            "\n",
            "Summary Stats\n",
            "Precision for 0.0 = 0.64\n",
            "Recall for 0.0 = 0.76\n",
            "F1 Score for 0.0 = 0.69\n",
            "Precision for 1.0 = 0.60\n",
            "Recall for 1.0 = 0.63\n",
            "F1 Score for 1.0 = 0.61\n",
            "Precision for 2.0 = 0.43\n",
            "Recall for 2.0 = 0.15\n",
            "F1 Score for 2.0 = 0.22\n",
            "LogisticRegression Accuracy = 0.61\n",
            "\n",
            "Confusion Matrix\n",
            "[[27426.  7574.  1242.]\n",
            " [10116. 19527.  1296.]\n",
            " [ 5584.  5619.  1951.]]\n",
            "\n",
            "     Class  Precision     Recall   F1-score    Support\n",
            "       0.0       0.64       0.76       0.69      36242\n",
            "       1.0       0.60       0.63       0.61      30939\n",
            "       2.0       0.43       0.15       0.22      13154\n"
          ]
        }
      ]
    },
    {
      "cell_type": "markdown",
      "source": [
        "#### Decision Tree"
      ],
      "metadata": {
        "id": "i_GR3PX7mrVx"
      }
    },
    {
      "cell_type": "code",
      "source": [
        "from pyspark.ml.classification import DecisionTreeClassifier\n",
        "from pyspark.ml.evaluation import MulticlassClassificationEvaluator\n",
        "from pyspark.mllib.evaluation import MulticlassMetrics\n",
        "\n",
        "# Split the data into train and test sets\n",
        "(trainingData, testData) = df.randomSplit([0.7, 0.3], seed=100)\n",
        "\n",
        "# Initialize Decision Tree classifier\n",
        "dt = DecisionTreeClassifier(labelCol=\"label\", featuresCol=\"word2vec_features\")\n",
        "\n",
        "# Fit Decision Tree classifier to the training dataset\n",
        "model = dt.fit(trainingData)\n",
        "\n",
        "# Make predictions on the test dataset\n",
        "predictions = model.transform(testData)\n",
        "\n",
        "# Evaluate the model performance using MulticlassClassificationEvaluator\n",
        "evaluator = MulticlassClassificationEvaluator(labelCol=\"label\", predictionCol=\"prediction\", metricName=\"accuracy\")\n",
        "accuracy = evaluator.evaluate(predictions)\n",
        "\n",
        "# Convert DataFrame to RDD for using MulticlassMetrics\n",
        "prediction_and_label = predictions.select(\"prediction\", \"label\").rdd\n",
        "\n",
        "# Instantiate metrics object\n",
        "metrics = MulticlassMetrics(prediction_and_label)\n",
        "\n",
        "labels = [0.0, 1.0, 2.0]  # Update the labels based on your dataset\n",
        "\n",
        "# Overall statistics\n",
        "print(\"\\nSummary Stats\")\n",
        "for label in labels:\n",
        "    print(\"Precision for {} = {:.2f}\".format(label, metrics.precision(label)))\n",
        "    print(\"Recall for {} = {:.2f}\".format(label, metrics.recall(label)))\n",
        "    print(\"F1 Score for {} = {:.2f}\".format(label, metrics.fMeasure(label)))\n",
        "\n",
        "# Accuracy\n",
        "print(\"Decision Tree Accuracy = {:.2f}\".format(metrics.accuracy))\n",
        "\n",
        "# Confusion matrix\n",
        "print(\"\\nConfusion Matrix\")\n",
        "print(metrics.confusionMatrix().toArray())\n",
        "\n",
        "# Calculate precision, recall, and F1-score for each class\n",
        "class_metrics = []\n",
        "\n",
        "for label in labels:\n",
        "    precision = metrics.precision(label)\n",
        "    recall = metrics.recall(label)\n",
        "    f1_score = metrics.fMeasure(label)\n",
        "\n",
        "    # Calculate support for each class\n",
        "    support = testData.filter(testData.label == label).count()\n",
        "\n",
        "    class_metrics.append((label, precision, recall, f1_score, support))\n",
        "\n",
        "# Print classification report\n",
        "print(\"\\n{:>10} {:>10} {:>10} {:>10} {:>10}\".format(\"Class\", \"Precision\", \"Recall\", \"F1-score\", \"Support\"))\n",
        "for label, precision, recall, f1_score, support in class_metrics:\n",
        "    print(\"{:>10} {:>10.2f} {:>10.2f} {:>10.2f} {:>10.0f}\".format(label, precision, recall, f1_score, support))\n"
      ],
      "metadata": {
        "colab": {
          "base_uri": "https://localhost:8080/"
        },
        "id": "28vKYq-3lWEQ",
        "outputId": "21cbfe98-a419-4105-9456-8a9500e17924"
      },
      "execution_count": null,
      "outputs": [
        {
          "output_type": "stream",
          "name": "stdout",
          "text": [
            "\n",
            "Summary Stats\n",
            "Precision for 0.0 = 0.56\n",
            "Recall for 0.0 = 0.82\n",
            "F1 Score for 0.0 = 0.67\n",
            "Precision for 1.0 = 0.56\n",
            "Recall for 1.0 = 0.49\n",
            "F1 Score for 1.0 = 0.52\n",
            "Precision for 2.0 = 0.57\n",
            "Recall for 2.0 = 0.00\n",
            "F1 Score for 2.0 = 0.00\n",
            "Decision Tree Accuracy = 0.56\n",
            "\n",
            "Confusion Matrix\n",
            "[[4.4395e+04 1.0037e+04 1.5000e+01]\n",
            " [2.3308e+04 2.2812e+04 3.0000e+00]\n",
            " [1.1353e+04 8.2190e+03 2.4000e+01]]\n",
            "\n",
            "     Class  Precision     Recall   F1-score    Support\n",
            "       0.0       0.56       0.82       0.67      54447\n",
            "       1.0       0.56       0.49       0.52      46123\n",
            "       2.0       0.57       0.00       0.00      19596\n"
          ]
        }
      ]
    },
    {
      "cell_type": "markdown",
      "source": [
        "#### Random Forest"
      ],
      "metadata": {
        "id": "x-wOVEawnuvC"
      }
    },
    {
      "cell_type": "code",
      "source": [
        "from pyspark.ml.classification import RandomForestClassifier\n",
        "from pyspark.ml.evaluation import MulticlassClassificationEvaluator\n",
        "from pyspark.mllib.evaluation import MulticlassMetrics\n",
        "\n",
        "# Split the data into train and test sets\n",
        "(trainingData, testData) = df.randomSplit([0.8, 0.2], seed=100)\n",
        "\n",
        "# Initialize Random Forest classifier\n",
        "rf = RandomForestClassifier(labelCol=\"label\", featuresCol=\"word2vec_features\", numTrees=10)\n",
        "\n",
        "# Fit Random Forest classifier to the training dataset\n",
        "model = rf.fit(trainingData)\n",
        "\n",
        "# Make predictions on the test dataset\n",
        "predictions = model.transform(testData)\n",
        "\n",
        "# Evaluate the model performance using MulticlassClassificationEvaluator\n",
        "evaluator = MulticlassClassificationEvaluator(labelCol=\"label\", predictionCol=\"prediction\", metricName=\"accuracy\")\n",
        "accuracy = evaluator.evaluate(predictions)\n",
        "\n",
        "# Convert DataFrame to RDD for using MulticlassMetrics\n",
        "prediction_and_label = predictions.select(\"prediction\", \"label\").rdd\n",
        "\n",
        "# Instantiate metrics object\n",
        "metrics = MulticlassMetrics(prediction_and_label)\n",
        "\n",
        "labels = [0.0, 1.0, 2.0]  # Update the labels based on your dataset\n",
        "\n",
        "# Overall statistics\n",
        "print(\"\\nSummary Stats\")\n",
        "for label in labels:\n",
        "    print(\"Precision for {} = {:.2f}\".format(label, metrics.precision(label)))\n",
        "    print(\"Recall for {} = {:.2f}\".format(label, metrics.recall(label)))\n",
        "    print(\"F1 Score for {} = {:.2f}\".format(label, metrics.fMeasure(label)))\n",
        "\n",
        "# Accuracy\n",
        "print(\"\\nRandom Forest Accuracy = {:.2f}\".format(metrics.accuracy))\n",
        "\n",
        "# Confusion matrix\n",
        "print(\"\\nConfusion Matrix\")\n",
        "print(metrics.confusionMatrix().toArray())\n",
        "\n",
        "# Calculate precision, recall, and F1-score for each class\n",
        "class_metrics = []\n",
        "\n",
        "for label in labels:\n",
        "    precision = metrics.precision(label)\n",
        "    recall = metrics.recall(label)\n",
        "    f1_score = metrics.fMeasure(label)\n",
        "\n",
        "    # Calculate support for each class\n",
        "    support = testData.filter(testData.label == label).count()\n",
        "\n",
        "    class_metrics.append((label, precision, recall, f1_score, support))\n",
        "\n",
        "# Print classification report\n",
        "print(\"\\n{:>10} {:>10} {:>10} {:>10} {:>10}\".format(\"Class\", \"Precision\", \"Recall\", \"F1-score\", \"Support\"))\n",
        "for label, precision, recall, f1_score, support in class_metrics:\n",
        "    print(\"{:>10} {:>10.2f} {:>10.2f} {:>10.2f} {:>10.0f}\".format(label, precision, recall, f1_score, support))\n"
      ],
      "metadata": {
        "colab": {
          "base_uri": "https://localhost:8080/"
        },
        "id": "KZPvhnuZm8AM",
        "outputId": "e6932f4d-6c71-4ac1-8757-f11aa5fea1cd"
      },
      "execution_count": null,
      "outputs": [
        {
          "output_type": "stream",
          "name": "stdout",
          "text": [
            "\n",
            "Summary Stats\n",
            "Precision for 0.0 = 0.58\n",
            "Recall for 0.0 = 0.81\n",
            "F1 Score for 0.0 = 0.68\n",
            "Precision for 1.0 = 0.56\n",
            "Recall for 1.0 = 0.54\n",
            "F1 Score for 1.0 = 0.55\n",
            "Precision for 2.0 = 1.00\n",
            "Recall for 2.0 = 0.00\n",
            "F1 Score for 2.0 = 0.00\n",
            "\n",
            "Random Forest Accuracy = 0.57\n",
            "\n",
            "Confusion Matrix\n",
            "[[29413.  6829.     0.]\n",
            " [14209. 16730.     0.]\n",
            " [ 6715.  6407.    32.]]\n",
            "\n",
            "     Class  Precision     Recall   F1-score    Support\n",
            "       0.0       0.58       0.81       0.68      36242\n",
            "       1.0       0.56       0.54       0.55      30939\n",
            "       2.0       1.00       0.00       0.00      13154\n"
          ]
        }
      ]
    },
    {
      "cell_type": "markdown",
      "source": [
        "#### Multilayer Perceptron Classifier"
      ],
      "metadata": {
        "id": "mmmM08kVrnN4"
      }
    },
    {
      "cell_type": "code",
      "source": [
        "from pyspark.ml.classification import MultilayerPerceptronClassifier\n",
        "from pyspark.ml.evaluation import MulticlassClassificationEvaluator\n",
        "\n",
        "# Split the data into train and test sets\n",
        "(trainingData, testData) = df.randomSplit([0.8, 0.2], seed=100)\n",
        "\n",
        "input_size = len(trainingData.select(\"word2vec_features\").first()[0])\n",
        "output_size = trainingData.select(\"label\").distinct().count()\n",
        "\n",
        "# Define the layers of the neural network\n",
        "# Example: [input_size, 64, 32, output_size] means input layer of size input_size,\n",
        "# one hidden layer of size 64, another hidden layer of size 32, and output layer of size output_size\n",
        "layers = [input_size, 64, 32, output_size]\n",
        "\n",
        "# Initialize MultilayerPerceptronClassifier\n",
        "mlpc = MultilayerPerceptronClassifier(layers=layers, seed=100, labelCol=\"label\", featuresCol=\"word2vec_features\")\n",
        "\n",
        "# Fit MultilayerPerceptronClassifier to the training dataset\n",
        "model = mlpc.fit(trainingData)\n",
        "\n",
        "# Make predictions on the test dataset\n",
        "predictions = model.transform(testData)\n",
        "\n",
        "# Evaluate the model performance using MulticlassClassificationEvaluator\n",
        "evaluator = MulticlassClassificationEvaluator(labelCol=\"label\", predictionCol=\"prediction\", metricName=\"accuracy\")\n",
        "accuracy = evaluator.evaluate(predictions)\n",
        "print(\"MLPC Accuracy:\", accuracy)\n",
        "\n",
        "# Convert DataFrame to RDD for using MulticlassMetrics\n",
        "prediction_and_label = predictions.select(\"prediction\", \"label\").rdd\n",
        "\n",
        "# Instantiate metrics object\n",
        "metrics = MulticlassMetrics(prediction_and_label)\n",
        "\n",
        "# Overall statistics\n",
        "print(\"\\nSummary Stats\")\n",
        "for label in labels:\n",
        "    print(\"Precision for {} = {:.2f}\".format(label, metrics.precision(label)))\n",
        "    print(\"Recall for {} = {:.2f}\".format(label, metrics.recall(label)))\n",
        "    print(\"F1 Score for {} = {:.2f}\".format(label, metrics.fMeasure(label)))\n",
        "\n",
        "# Accuracy\n",
        "print(\"\\nMLPC Accuracy:\", metrics.accuracy)\n",
        "\n",
        "# Confusion matrix\n",
        "print(\"\\nConfusion Matrix\")\n",
        "print(metrics.confusionMatrix().toArray())\n",
        "\n",
        "# Calculate precision, recall, and F1-score for each class\n",
        "class_metrics = []\n",
        "\n",
        "for label in labels:\n",
        "    precision = metrics.precision(label)\n",
        "    recall = metrics.recall(label)\n",
        "    f1_score = metrics.fMeasure(label)\n",
        "\n",
        "    # Calculate support for each class\n",
        "    support = testData.filter(testData.label == label).count()\n",
        "\n",
        "    class_metrics.append((label, precision, recall, f1_score, support))\n",
        "\n",
        "# Print classification report\n",
        "print(\"\\n{:>10} {:>10} {:>10} {:>10} {:>10}\".format(\"Class\", \"Precision\", \"Recall\", \"F1-score\", \"Support\"))\n",
        "for label, precision, recall, f1_score, support in class_metrics:\n",
        "    print(\"{:>10} {:>10.2f} {:>10.2f} {:>10.2f} {:>10.0f}\".format(label, precision, recall, f1_score, support))"
      ],
      "metadata": {
        "colab": {
          "base_uri": "https://localhost:8080/"
        },
        "id": "bTACYnt3n1kU",
        "outputId": "1a6315c8-d450-4eb4-ae33-ec86ff5bea81"
      },
      "execution_count": null,
      "outputs": [
        {
          "output_type": "stream",
          "name": "stdout",
          "text": [
            "MLPC Accuracy: 0.6074687247152548\n"
          ]
        },
        {
          "output_type": "stream",
          "name": "stderr",
          "text": [
            "/usr/local/lib/python3.10/dist-packages/pyspark/sql/context.py:158: FutureWarning: Deprecated in 3.0.0. Use SparkSession.builder.getOrCreate() instead.\n",
            "  warnings.warn(\n"
          ]
        },
        {
          "output_type": "stream",
          "name": "stdout",
          "text": [
            "\n",
            "Summary Stats\n",
            "Precision for 0.0 = 0.64\n",
            "Recall for 0.0 = 0.75\n",
            "F1 Score for 0.0 = 0.69\n",
            "Precision for 1.0 = 0.59\n",
            "Recall for 1.0 = 0.63\n",
            "F1 Score for 1.0 = 0.61\n",
            "Precision for 2.0 = 0.43\n",
            "Recall for 2.0 = 0.15\n",
            "F1 Score for 2.0 = 0.23\n",
            "\n",
            "MLPC Accuracy: 0.6074687247152548\n",
            "\n",
            "Confusion Matrix\n",
            "[[27226.  7788.  1228.]\n",
            " [ 9941. 19547.  1451.]\n",
            " [ 5527.  5599.  2028.]]\n",
            "\n",
            "     Class  Precision     Recall   F1-score    Support\n",
            "       0.0       0.64       0.75       0.69      36242\n",
            "       1.0       0.59       0.63       0.61      30939\n",
            "       2.0       0.43       0.15       0.23      13154\n"
          ]
        }
      ]
    },
    {
      "cell_type": "markdown",
      "source": [
        "#### LR with Cross Validation"
      ],
      "metadata": {
        "id": "hrJaB0BDpULt"
      }
    },
    {
      "cell_type": "code",
      "source": [
        "from pyspark.ml.evaluation import MulticlassClassificationEvaluator\n",
        "from pyspark.ml.classification import LogisticRegression\n",
        "from pyspark.ml.tuning import ParamGridBuilder, CrossValidator\n",
        "from pyspark.mllib.evaluation import MulticlassMetrics\n",
        "\n",
        "# Split the data into train and test sets\n",
        "(trainingData, testData) = df.randomSplit([0.8, 0.2], seed=100)\n",
        "\n",
        "# Initialize Logistic Regression model\n",
        "lr = LogisticRegression(labelCol=\"label\", featuresCol=\"word2vec_features\")\n",
        "\n",
        "# Create ParamGrid for Cross Validation\n",
        "paramGrid = (ParamGridBuilder()\n",
        "             .addGrid(lr.regParam, [0.1, 0.3, 0.5])\n",
        "             .addGrid(lr.elasticNetParam, [0.0, 0.1, 0.2])\n",
        "             .build())\n",
        "\n",
        "# Initialize CrossValidator\n",
        "evaluator = MulticlassClassificationEvaluator(labelCol=\"label\", predictionCol=\"prediction\", metricName=\"accuracy\")\n",
        "crossval = CrossValidator(estimator=lr,\n",
        "                          estimatorParamMaps=paramGrid,\n",
        "                          evaluator=evaluator,\n",
        "                          numFolds=3)\n",
        "\n",
        "# Fit CrossValidator to the training dataset\n",
        "cvModel = crossval.fit(trainingData)\n",
        "\n",
        "# Make predictions on the test dataset\n",
        "predictions = cvModel.transform(testData)\n",
        "\n",
        "# Evaluate the model performance using MulticlassClassificationEvaluator\n",
        "accuracy = evaluator.evaluate(predictions)\n",
        "\n",
        "# Convert DataFrame to RDD for using MulticlassMetrics\n",
        "prediction_and_label = predictions.select(\"prediction\", \"label\").rdd\n",
        "\n",
        "# Instantiate metrics object\n",
        "metrics = MulticlassMetrics(prediction_and_label)\n",
        "\n",
        "labels = [0.0, 1.0, 2.0]\n",
        "\n",
        "# Overall statistics\n",
        "print(\"\\nSummary Stats\")\n",
        "for label in labels:\n",
        "    print(\"Precision for {} = {:.2f}\".format(label, metrics.precision(label)))\n",
        "    print(\"Recall for {} = {:.2f}\".format(label, metrics.recall(label)))\n",
        "    print(\"F1 Score for {} = {:.2f}\".format(label, metrics.fMeasure(label)))\n",
        "\n",
        "# Accuracy\n",
        "print(\"LogisticRegression Accuracy = {:.2f}\".format(metrics.accuracy))\n",
        "\n",
        "# Confusion matrix\n",
        "print(\"\\nConfusion Matrix\")\n",
        "print(metrics.confusionMatrix().toArray())\n",
        "\n",
        "# Calculate precision, recall, and F1-score for each class\n",
        "class_metrics = []\n",
        "\n",
        "for label in labels:\n",
        "    precision = metrics.precision(label)\n",
        "    recall = metrics.recall(label)\n",
        "    f1_score = metrics.fMeasure(label)\n",
        "\n",
        "    # Calculate support for each class\n",
        "    support = testData.filter(testData.label == label).count()\n",
        "\n",
        "    class_metrics.append((label, precision, recall, f1_score, support))\n",
        "\n",
        "# Print classification report\n",
        "print(\"\\n{:>10} {:>10} {:>10} {:>10} {:>10}\".format(\"Class\", \"Precision\", \"Recall\", \"F1-score\", \"Support\"))\n",
        "for label, precision, recall, f1_score, support in class_metrics:\n",
        "    print(\"{:>10} {:>10.2f} {:>10.2f} {:>10.2f} {:>10.0f}\".format(label, precision, recall, f1_score, support))\n"
      ],
      "metadata": {
        "colab": {
          "base_uri": "https://localhost:8080/"
        },
        "id": "iFoR25eXpTkR",
        "outputId": "171556c6-9842-4aad-ef7d-2bae3a82d288"
      },
      "execution_count": null,
      "outputs": [
        {
          "output_type": "stream",
          "name": "stdout",
          "text": [
            "\n",
            "Summary Stats\n",
            "Precision for 0.0 = 0.62\n",
            "Recall for 0.0 = 0.78\n",
            "F1 Score for 0.0 = 0.69\n",
            "Precision for 1.0 = 0.58\n",
            "Recall for 1.0 = 0.63\n",
            "F1 Score for 1.0 = 0.60\n",
            "Precision for 2.0 = 0.46\n",
            "Recall for 2.0 = 0.05\n",
            "F1 Score for 2.0 = 0.09\n",
            "LogisticRegression Accuracy = 0.60\n",
            "\n",
            "Confusion Matrix\n",
            "[[28100.  7753.   389.]\n",
            " [11098. 19422.   419.]\n",
            " [ 6128.  6330.   696.]]\n",
            "\n",
            "     Class  Precision     Recall   F1-score    Support\n",
            "       0.0       0.62       0.78       0.69      36242\n",
            "       1.0       0.58       0.63       0.60      30939\n",
            "       2.0       0.46       0.05       0.09      13154\n"
          ]
        }
      ]
    },
    {
      "cell_type": "code",
      "source": [],
      "metadata": {
        "id": "nkC2ZkgEvt0D"
      },
      "execution_count": null,
      "outputs": []
    },
    {
      "cell_type": "code",
      "source": [],
      "metadata": {
        "id": "aqIxIyCVx3C2"
      },
      "execution_count": null,
      "outputs": []
    }
  ]
}